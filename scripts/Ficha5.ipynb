{
 "cells": [
  {
   "cell_type": "markdown",
   "id": "43fa03ab",
   "metadata": {},
   "source": [
    "# Convolutional NN"
   ]
  },
  {
   "cell_type": "code",
   "execution_count": 1,
   "id": "33cb45c4",
   "metadata": {},
   "outputs": [],
   "source": [
    "import numpy as np\n",
    "import gzip\n",
    "import os\n",
    "import pickle\n",
    "from matplotlib import pyplot\n",
    "\n",
    "from si.data.Dataset import Dataset\n",
    "from si.util.Util import to_categorical"
   ]
  },
  {
   "cell_type": "markdown",
   "id": "cb6c4620",
   "metadata": {},
   "source": [
    "Load the MNIST dataset"
   ]
  },
  {
   "cell_type": "code",
   "execution_count": 2,
   "id": "01211c65",
   "metadata": {},
   "outputs": [],
   "source": [
    "def load_mnist(sample_size = None):\n",
    "    DIR = os.path.dirname(os.path.realpath('.'))\n",
    "    filename = os.path.join(DIR, 'datasets/mnist.pkl.gz')\n",
    "    f = gzip.open(filename, 'rb')\n",
    "    data = pickle.load(f, encoding = 'bytes')\n",
    "    (x_train, y_train), (x_test, y_test) = data\n",
    "    if sample_size:\n",
    "        return Dataset(x_train[:sample_size], y_train[:sample_size]), Dataset(x_test, y_test)\n",
    "    else:\n",
    "        return Dataset(x_train, y_train), Dataset(x_test, y_test)"
   ]
  },
  {
   "cell_type": "code",
   "execution_count": 3,
   "id": "ee31ef2a",
   "metadata": {},
   "outputs": [],
   "source": [
    "train,test = load_mnist(500)"
   ]
  },
  {
   "cell_type": "code",
   "execution_count": 4,
   "id": "8eb38cb2",
   "metadata": {},
   "outputs": [],
   "source": [
    "def preprocess(train):\n",
    "    # reshape and normalize input data \n",
    "    train.X = train.X.reshape(train.X.shape[0], 28, 28, 1)\n",
    "    train.X = train.X.astype('float32')\n",
    "    train.X /= 255\n",
    "    train.y = to_categorical(train.y)"
   ]
  },
  {
   "cell_type": "code",
   "execution_count": 5,
   "id": "349a4b02",
   "metadata": {},
   "outputs": [],
   "source": [
    "preprocess(train)\n",
    "preprocess(test)"
   ]
  },
  {
   "cell_type": "code",
   "execution_count": 6,
   "id": "b8da1a25",
   "metadata": {},
   "outputs": [
    {
     "data": {
      "image/png": "[encoded data removed]",
      "text/plain": [
       "<Figure size 432x288 with 1 Axes>"
      ]
     },
     "metadata": {
      "needs_background": "light"
     },
     "output_type": "display_data"
    }
   ],
   "source": [
    "def plot_img(img,shape = (28, 28)):\n",
    "    pic = (img * 255).reshape(shape)\n",
    "    pic = pic.astype('int')\n",
    "    pyplot.imshow(pic, cmap = pyplot.get_cmap('gray'))\n",
    "    pyplot.show()\n",
    "\n",
    "plot_img(test.X[0])"
   ]
  },
  {
   "cell_type": "code",
   "execution_count": 7,
   "id": "7a526d57",
   "metadata": {},
   "outputs": [],
   "source": [
    "from si.supervised.NeuralNetwork import NN, Dense, Activation, Conv2D, Flatten, MaxPooling2D\n",
    "from si.util.Metrics import cross_entropy, cross_entropy_prime\n",
    "from si.util.Activation import Tanh, Sigmoid"
   ]
  },
  {
   "cell_type": "markdown",
   "id": "e8d62d85",
   "metadata": {},
   "source": [
    "### Check Conv2D"
   ]
  },
  {
   "cell_type": "code",
   "execution_count": 8,
   "id": "ff81f939",
   "metadata": {
    "scrolled": true
   },
   "outputs": [
    {
     "data": {
      "image/png": "[encoded data removed]",
      "text/plain": [
       "<Figure size 432x288 with 1 Axes>"
      ]
     },
     "metadata": {
      "needs_background": "light"
     },
     "output_type": "display_data"
    }
   ],
   "source": [
    "conv = Conv2D((28, 28,1), (3, 3), 1)\n",
    "out = conv.forward(test.X[:1])\n",
    "plot_img(out, shape = (26, 26))"
   ]
  },
  {
   "cell_type": "markdown",
   "id": "9ed4258b",
   "metadata": {},
   "source": [
    "### Check MaxPooling"
   ]
  },
  {
   "cell_type": "code",
   "execution_count": 9,
   "id": "ceb3454e",
   "metadata": {},
   "outputs": [
    {
     "name": "stdout",
     "output_type": "stream",
     "text": [
      "(4, 729)\n"
     ]
    },
    {
     "data": {
      "image/png": "[encoded data removed]",
      "text/plain": [
       "<Figure size 432x288 with 1 Axes>"
      ]
     },
     "metadata": {
      "needs_background": "light"
     },
     "output_type": "display_data"
    }
   ],
   "source": [
    "pool = MaxPooling2D(size = 2, stride = 1)\n",
    "out = pool.forward(test.X[:1])\n",
    "plot_img(out, shape = (27, 27))"
   ]
  },
  {
   "cell_type": "markdown",
   "id": "e199ff7d",
   "metadata": {},
   "source": [
    "Build the model"
   ]
  },
  {
   "cell_type": "code",
   "execution_count": 10,
   "id": "e043b055",
   "metadata": {},
   "outputs": [],
   "source": [
    "net = NN(epochs = 500, lr = 0.1, verbose = False)\n",
    "net.add(Conv2D((28, 28, 1), (3, 3), 1))  \n",
    "net.add(Activation(Tanh()))\n",
    "net.add(MaxPooling2D())\n",
    "net.add(Flatten())\n",
    "net.add(Dense(25 * 25 * 1, 100))           \n",
    "net.add(Activation(Tanh()))\n",
    "net.add(Dense(100, 10))                \n",
    "net.add(Activation(Sigmoid()))\n",
    "\n",
    "net.useLoss(cross_entropy, cross_entropy_prime)"
   ]
  },
  {
   "cell_type": "markdown",
   "id": "5f058ccd",
   "metadata": {},
   "source": [
    "Train the model"
   ]
  },
  {
   "cell_type": "code",
   "execution_count": 11,
   "id": "86a326b7",
   "metadata": {
    "scrolled": false
   },
   "outputs": [
    {
     "name": "stdout",
     "output_type": "stream",
     "text": [
      "(4, 312500)\n",
      "(4, 312500)00, error = 446.96790259994276\n",
      "(4, 312500)00, error = 10253.160117183465\n",
      "(4, 312500)00, error = 36601.44946066284\n",
      "(4, 312500)00, error = 36601.44946066284\n",
      "(4, 312500)00, error = 36601.44946066284\n",
      "(4, 312500)00, error = 36601.44946066284\n",
      "(4, 312500)00, error = 36601.44946066284\n",
      "(4, 312500)00, error = 36601.44946066284\n",
      "(4, 312500)00, error = 36601.44946066284\n",
      "(4, 312500)500, error = 36601.44946066284\n",
      "(4, 312500)500, error = 36601.44946066284\n",
      "(4, 312500)500, error = 36601.44946066284\n",
      "(4, 312500)500, error = 36601.44946066284\n",
      "(4, 312500)500, error = 36601.44946066284\n",
      "(4, 312500)500, error = 36601.44946066284\n",
      "(4, 312500)500, error = 36601.44946066284\n",
      "(4, 312500)500, error = 36601.44946066284\n",
      "(4, 312500)500, error = 36601.44946066284\n",
      "(4, 312500)500, error = 36601.44946066284\n",
      "(4, 312500)500, error = 36601.44946066284\n",
      "(4, 312500)500, error = 36601.44946066284\n",
      "(4, 312500)500, error = 36601.44946066284\n",
      "(4, 312500)500, error = 36601.44946066284\n",
      "(4, 312500)500, error = 36601.44946066284\n",
      "(4, 312500)500, error = 36601.44946066284\n",
      "(4, 312500)500, error = 36601.44946066284\n",
      "(4, 312500)500, error = 36601.44946066284\n",
      "(4, 312500)500, error = 36601.44946066284\n",
      "(4, 312500)500, error = 36601.44946066284\n",
      "(4, 312500)500, error = 36601.44946066284\n",
      "(4, 312500)500, error = 36601.44946066284\n",
      "(4, 312500)500, error = 36601.44946066284\n",
      "(4, 312500)500, error = 36601.44946066284\n",
      "(4, 312500)500, error = 36601.44946066284\n",
      "(4, 312500)500, error = 36601.44946066284\n",
      "(4, 312500)500, error = 36601.44946066284\n",
      "(4, 312500)500, error = 36601.44946066284\n",
      "(4, 312500)500, error = 36601.44946066284\n",
      "(4, 312500)500, error = 36601.44946066284\n",
      "(4, 312500)500, error = 36601.44946066284\n",
      "(4, 312500)500, error = 36601.44946066284\n",
      "(4, 312500)500, error = 36601.44946066284\n",
      "(4, 312500)500, error = 36601.44946066284\n",
      "(4, 312500)500, error = 36601.44946066284\n",
      "(4, 312500)500, error = 36601.44946066284\n",
      "(4, 312500)500, error = 36601.44946066284\n",
      "(4, 312500)500, error = 36601.44946066284\n",
      "(4, 312500)500, error = 36601.44946066284\n",
      "(4, 312500)500, error = 36601.44946066284\n",
      "(4, 312500)500, error = 36601.44946066284\n",
      "(4, 312500)500, error = 36601.44946066284\n",
      "(4, 312500)500, error = 36601.44946066284\n",
      "(4, 312500)500, error = 36601.44946066284\n",
      "(4, 312500)500, error = 36601.44946066284\n",
      "(4, 312500)500, error = 36601.44946066284\n",
      "(4, 312500)500, error = 36601.44946066284\n",
      "(4, 312500)500, error = 36601.44946066284\n",
      "(4, 312500)500, error = 36601.44946066284\n",
      "(4, 312500)500, error = 36601.44946066284\n",
      "(4, 312500)500, error = 36601.44946066284\n",
      "(4, 312500)500, error = 36601.44946066284\n",
      "(4, 312500)500, error = 36601.44946066284\n",
      "(4, 312500)500, error = 36601.44946066284\n",
      "(4, 312500)500, error = 36601.44946066284\n",
      "(4, 312500)500, error = 36601.44946066284\n",
      "(4, 312500)500, error = 36601.44946066284\n",
      "(4, 312500)500, error = 36601.44946066284\n",
      "(4, 312500)500, error = 36601.44946066284\n",
      "(4, 312500)500, error = 36601.44946066284\n",
      "(4, 312500)500, error = 36601.44946066284\n",
      "(4, 312500)500, error = 36601.44946066284\n",
      "(4, 312500)500, error = 36601.44946066284\n",
      "(4, 312500)500, error = 36601.44946066284\n",
      "(4, 312500)500, error = 36601.44946066284\n",
      "(4, 312500)500, error = 36601.44946066284\n",
      "(4, 312500)500, error = 36601.44946066284\n",
      "(4, 312500)500, error = 36601.44946066284\n",
      "(4, 312500)500, error = 36601.44946066284\n",
      "(4, 312500)500, error = 36601.44946066284\n",
      "(4, 312500)500, error = 36601.44946066284\n",
      "(4, 312500)500, error = 36601.44946066284\n",
      "(4, 312500)500, error = 36601.44946066284\n",
      "(4, 312500)500, error = 36601.44946066284\n",
      "(4, 312500)500, error = 36601.44946066284\n",
      "(4, 312500)500, error = 36601.44946066284\n",
      "(4, 312500)500, error = 36601.44946066284\n",
      "(4, 312500)500, error = 36601.44946066284\n",
      "(4, 312500)500, error = 36601.44946066284\n",
      "(4, 312500)500, error = 36601.44946066284\n",
      "(4, 312500)500, error = 36601.44946066284\n",
      "(4, 312500)500, error = 36601.44946066284\n",
      "(4, 312500)500, error = 36601.44946066284\n",
      "(4, 312500)500, error = 36601.44946066284\n",
      "(4, 312500)500, error = 36601.44946066284\n",
      "(4, 312500)500, error = 36601.44946066284\n",
      "(4, 312500)500, error = 36601.44946066284\n",
      "(4, 312500)500, error = 36601.44946066284\n",
      "(4, 312500)500, error = 36601.44946066284\n",
      "(4, 312500)500, error = 36601.44946066284\n",
      "(4, 312500) 500, error = 36601.44946066284\n",
      "(4, 312500) 500, error = 36601.44946066284\n",
      "(4, 312500) 500, error = 36601.44946066284\n",
      "(4, 312500) 500, error = 36601.44946066284\n",
      "(4, 312500) 500, error = 36601.44946066284\n",
      "(4, 312500) 500, error = 36601.44946066284\n",
      "(4, 312500) 500, error = 36601.44946066284\n",
      "(4, 312500) 500, error = 36601.44946066284\n",
      "(4, 312500) 500, error = 36601.44946066284\n",
      "(4, 312500) 500, error = 36601.44946066284\n",
      "(4, 312500) 500, error = 36601.44946066284\n",
      "(4, 312500) 500, error = 36601.44946066284\n",
      "(4, 312500) 500, error = 36601.44946066284\n",
      "(4, 312500) 500, error = 36601.44946066284\n",
      "(4, 312500) 500, error = 36601.44946066284\n",
      "(4, 312500) 500, error = 36601.44946066284\n",
      "(4, 312500) 500, error = 36601.44946066284\n",
      "(4, 312500) 500, error = 36601.44946066284\n",
      "(4, 312500) 500, error = 36601.44946066284\n",
      "(4, 312500) 500, error = 36601.44946066284\n",
      "(4, 312500) 500, error = 36601.44946066284\n",
      "(4, 312500) 500, error = 36601.44946066284\n",
      "(4, 312500) 500, error = 36601.44946066284\n",
      "(4, 312500) 500, error = 36601.44946066284\n",
      "(4, 312500) 500, error = 36601.44946066284\n",
      "(4, 312500) 500, error = 36601.44946066284\n",
      "(4, 312500) 500, error = 36601.44946066284\n",
      "(4, 312500) 500, error = 36601.44946066284\n",
      "(4, 312500) 500, error = 36601.44946066284\n",
      "(4, 312500) 500, error = 36601.44946066284\n",
      "(4, 312500) 500, error = 36601.44946066284\n",
      "(4, 312500) 500, error = 36601.44946066284\n",
      "(4, 312500) 500, error = 36601.44946066284\n",
      "(4, 312500) 500, error = 36601.44946066284\n",
      "(4, 312500) 500, error = 36601.44946066284\n",
      "(4, 312500) 500, error = 36601.44946066284\n",
      "(4, 312500) 500, error = 36601.44946066284\n",
      "(4, 312500) 500, error = 36601.44946066284\n",
      "(4, 312500) 500, error = 36601.44946066284\n",
      "(4, 312500) 500, error = 36601.44946066284\n",
      "(4, 312500) 500, error = 36601.44946066284\n",
      "(4, 312500) 500, error = 36601.44946066284\n",
      "(4, 312500) 500, error = 36601.44946066284\n",
      "(4, 312500) 500, error = 36601.44946066284\n",
      "(4, 312500) 500, error = 36601.44946066284\n",
      "(4, 312500) 500, error = 36601.44946066284\n",
      "(4, 312500) 500, error = 36601.44946066284\n",
      "(4, 312500) 500, error = 36601.44946066284\n",
      "(4, 312500) 500, error = 36601.44946066284\n",
      "(4, 312500) 500, error = 36601.44946066284\n",
      "(4, 312500) 500, error = 36601.44946066284\n",
      "(4, 312500) 500, error = 36601.44946066284\n",
      "(4, 312500) 500, error = 36601.44946066284\n",
      "(4, 312500) 500, error = 36601.44946066284\n",
      "(4, 312500) 500, error = 36601.44946066284\n",
      "(4, 312500) 500, error = 36601.44946066284\n",
      "(4, 312500) 500, error = 36601.44946066284\n",
      "(4, 312500) 500, error = 36601.44946066284\n",
      "(4, 312500) 500, error = 36601.44946066284\n",
      "(4, 312500) 500, error = 36601.44946066284\n",
      "(4, 312500) 500, error = 36601.44946066284\n",
      "(4, 312500) 500, error = 36601.44946066284\n",
      "(4, 312500) 500, error = 36601.44946066284\n",
      "(4, 312500) 500, error = 36601.44946066284\n",
      "(4, 312500) 500, error = 36601.44946066284\n",
      "(4, 312500) 500, error = 36601.44946066284\n",
      "(4, 312500) 500, error = 36601.44946066284\n",
      "(4, 312500) 500, error = 36601.44946066284\n",
      "(4, 312500) 500, error = 36601.44946066284\n",
      "(4, 312500) 500, error = 36601.44946066284\n",
      "(4, 312500) 500, error = 36601.44946066284\n",
      "(4, 312500) 500, error = 36601.44946066284\n",
      "(4, 312500) 500, error = 36601.44946066284\n",
      "(4, 312500) 500, error = 36601.44946066284\n",
      "(4, 312500) 500, error = 36601.44946066284\n",
      "(4, 312500) 500, error = 36601.44946066284\n",
      "(4, 312500) 500, error = 36601.44946066284\n",
      "(4, 312500) 500, error = 36601.44946066284\n",
      "(4, 312500) 500, error = 36601.44946066284\n",
      "(4, 312500) 500, error = 36601.44946066284\n",
      "(4, 312500) 500, error = 36601.44946066284\n",
      "(4, 312500) 500, error = 36601.44946066284\n",
      "(4, 312500) 500, error = 36601.44946066284\n",
      "(4, 312500) 500, error = 36601.44946066284\n",
      "(4, 312500) 500, error = 36601.44946066284\n",
      "(4, 312500) 500, error = 36601.44946066284\n",
      "(4, 312500) 500, error = 36601.44946066284\n",
      "(4, 312500) 500, error = 36601.44946066284\n",
      "(4, 312500) 500, error = 36601.44946066284\n",
      "(4, 312500) 500, error = 36601.44946066284\n",
      "(4, 312500) 500, error = 36601.44946066284\n",
      "(4, 312500) 500, error = 36601.44946066284\n",
      "(4, 312500) 500, error = 36601.44946066284\n",
      "(4, 312500) 500, error = 36601.44946066284\n"
     ]
    },
    {
     "name": "stdout",
     "output_type": "stream",
     "text": [
      "(4, 312500) 500, error = 36601.44946066284\n",
      "(4, 312500) 500, error = 36601.44946066284\n",
      "(4, 312500) 500, error = 36601.44946066284\n",
      "(4, 312500) 500, error = 36601.44946066284\n",
      "(4, 312500) 500, error = 36601.44946066284\n",
      "(4, 312500) 500, error = 36601.44946066284\n",
      "(4, 312500) 500, error = 36601.44946066284\n",
      "(4, 312500) 500, error = 36601.44946066284\n",
      "(4, 312500) 500, error = 36601.44946066284\n",
      "(4, 312500) 500, error = 36601.44946066284\n",
      "(4, 312500) 500, error = 36601.44946066284\n",
      "(4, 312500) 500, error = 36601.44946066284\n",
      "(4, 312500) 500, error = 36601.44946066284\n",
      "(4, 312500) 500, error = 36601.44946066284\n",
      "(4, 312500) 500, error = 36601.44946066284\n",
      "(4, 312500) 500, error = 36601.44946066284\n",
      "(4, 312500) 500, error = 36601.44946066284\n",
      "(4, 312500) 500, error = 36601.44946066284\n",
      "(4, 312500) 500, error = 36601.44946066284\n",
      "(4, 312500) 500, error = 36601.44946066284\n",
      "(4, 312500) 500, error = 36601.44946066284\n",
      "(4, 312500) 500, error = 36601.44946066284\n",
      "(4, 312500) 500, error = 36601.44946066284\n",
      "(4, 312500) 500, error = 36601.44946066284\n",
      "(4, 312500) 500, error = 36601.44946066284\n",
      "(4, 312500) 500, error = 36601.44946066284\n",
      "(4, 312500) 500, error = 36601.44946066284\n",
      "(4, 312500) 500, error = 36601.44946066284\n",
      "(4, 312500) 500, error = 36601.44946066284\n",
      "(4, 312500) 500, error = 36601.44946066284\n",
      "(4, 312500) 500, error = 36601.44946066284\n",
      "(4, 312500) 500, error = 36601.44946066284\n",
      "(4, 312500) 500, error = 36601.44946066284\n",
      "(4, 312500) 500, error = 36601.44946066284\n",
      "(4, 312500) 500, error = 36601.44946066284\n",
      "(4, 312500) 500, error = 36601.44946066284\n",
      "(4, 312500) 500, error = 36601.44946066284\n",
      "(4, 312500) 500, error = 36601.44946066284\n",
      "(4, 312500) 500, error = 36601.44946066284\n",
      "(4, 312500) 500, error = 36601.44946066284\n",
      "(4, 312500) 500, error = 36601.44946066284\n",
      "(4, 312500) 500, error = 36601.44946066284\n",
      "(4, 312500) 500, error = 36601.44946066284\n",
      "(4, 312500) 500, error = 36601.44946066284\n",
      "(4, 312500) 500, error = 36601.44946066284\n",
      "(4, 312500) 500, error = 36601.44946066284\n",
      "(4, 312500) 500, error = 36601.44946066284\n",
      "(4, 312500) 500, error = 36601.44946066284\n",
      "(4, 312500) 500, error = 36601.44946066284\n",
      "(4, 312500) 500, error = 36601.44946066284\n",
      "(4, 312500) 500, error = 36601.44946066284\n",
      "(4, 312500) 500, error = 36601.44946066284\n",
      "(4, 312500) 500, error = 36601.44946066284\n",
      "(4, 312500) 500, error = 36601.44946066284\n",
      "(4, 312500) 500, error = 36601.44946066284\n",
      "(4, 312500) 500, error = 36601.44946066284\n",
      "(4, 312500) 500, error = 36601.44946066284\n",
      "(4, 312500) 500, error = 36601.44946066284\n",
      "(4, 312500) 500, error = 36601.44946066284\n",
      "(4, 312500) 500, error = 36601.44946066284\n",
      "(4, 312500) 500, error = 36601.44946066284\n",
      "(4, 312500) 500, error = 36601.44946066284\n",
      "(4, 312500) 500, error = 36601.44946066284\n",
      "(4, 312500) 500, error = 36601.44946066284\n",
      "(4, 312500) 500, error = 36601.44946066284\n",
      "(4, 312500) 500, error = 36601.44946066284\n",
      "(4, 312500) 500, error = 36601.44946066284\n",
      "(4, 312500) 500, error = 36601.44946066284\n",
      "(4, 312500) 500, error = 36601.44946066284\n",
      "(4, 312500) 500, error = 36601.44946066284\n",
      "(4, 312500) 500, error = 36601.44946066284\n",
      "(4, 312500) 500, error = 36601.44946066284\n",
      "(4, 312500) 500, error = 36601.44946066284\n",
      "(4, 312500) 500, error = 36601.44946066284\n",
      "(4, 312500) 500, error = 36601.44946066284\n",
      "(4, 312500) 500, error = 36601.44946066284\n",
      "(4, 312500) 500, error = 36601.44946066284\n",
      "(4, 312500) 500, error = 36601.44946066284\n",
      "(4, 312500) 500, error = 36601.44946066284\n",
      "(4, 312500) 500, error = 36601.44946066284\n",
      "(4, 312500) 500, error = 36601.44946066284\n",
      "(4, 312500) 500, error = 36601.44946066284\n",
      "(4, 312500) 500, error = 36601.44946066284\n",
      "(4, 312500) 500, error = 36601.44946066284\n",
      "(4, 312500) 500, error = 36601.44946066284\n",
      "(4, 312500) 500, error = 36601.44946066284\n",
      "(4, 312500) 500, error = 36601.44946066284\n",
      "(4, 312500) 500, error = 36601.44946066284\n",
      "(4, 312500) 500, error = 36601.44946066284\n",
      "(4, 312500) 500, error = 36601.44946066284\n",
      "(4, 312500) 500, error = 36601.44946066284\n",
      "(4, 312500) 500, error = 36601.44946066284\n",
      "(4, 312500) 500, error = 36601.44946066284\n",
      "(4, 312500) 500, error = 36601.44946066284\n",
      "(4, 312500) 500, error = 36601.44946066284\n",
      "(4, 312500) 500, error = 36601.44946066284\n",
      "(4, 312500) 500, error = 36601.44946066284\n",
      "(4, 312500) 500, error = 36601.44946066284\n",
      "(4, 312500) 500, error = 36601.44946066284\n",
      "(4, 312500) 500, error = 36601.44946066284\n",
      "(4, 312500) 500, error = 36601.44946066284\n",
      "(4, 312500) 500, error = 36601.44946066284\n",
      "(4, 312500) 500, error = 36601.44946066284\n",
      "(4, 312500) 500, error = 36601.44946066284\n",
      "(4, 312500) 500, error = 36601.44946066284\n",
      "(4, 312500) 500, error = 36601.44946066284\n",
      "(4, 312500) 500, error = 36601.44946066284\n",
      "(4, 312500) 500, error = 36601.44946066284\n",
      "(4, 312500) 500, error = 36601.44946066284\n",
      "(4, 312500) 500, error = 36601.44946066284\n",
      "(4, 312500) 500, error = 36601.44946066284\n",
      "(4, 312500) 500, error = 36601.44946066284\n",
      "(4, 312500) 500, error = 36601.44946066284\n",
      "(4, 312500) 500, error = 36601.44946066284\n",
      "(4, 312500) 500, error = 36601.44946066284\n",
      "(4, 312500) 500, error = 36601.44946066284\n",
      "(4, 312500) 500, error = 36601.44946066284\n",
      "(4, 312500) 500, error = 36601.44946066284\n",
      "(4, 312500) 500, error = 36601.44946066284\n",
      "(4, 312500) 500, error = 36601.44946066284\n",
      "(4, 312500) 500, error = 36601.44946066284\n",
      "(4, 312500) 500, error = 36601.44946066284\n",
      "(4, 312500) 500, error = 36601.44946066284\n",
      "(4, 312500) 500, error = 36601.44946066284\n",
      "(4, 312500) 500, error = 36601.44946066284\n",
      "(4, 312500) 500, error = 36601.44946066284\n",
      "(4, 312500) 500, error = 36601.44946066284\n",
      "(4, 312500) 500, error = 36601.44946066284\n",
      "(4, 312500) 500, error = 36601.44946066284\n",
      "(4, 312500) 500, error = 36601.44946066284\n",
      "(4, 312500) 500, error = 36601.44946066284\n",
      "(4, 312500) 500, error = 36601.44946066284\n",
      "(4, 312500) 500, error = 36601.44946066284\n",
      "(4, 312500) 500, error = 36601.44946066284\n",
      "(4, 312500) 500, error = 36601.44946066284\n",
      "(4, 312500) 500, error = 36601.44946066284\n",
      "(4, 312500) 500, error = 36601.44946066284\n",
      "(4, 312500) 500, error = 36601.44946066284\n",
      "(4, 312500) 500, error = 36601.44946066284\n",
      "(4, 312500) 500, error = 36601.44946066284\n",
      "(4, 312500) 500, error = 36601.44946066284\n",
      "(4, 312500) 500, error = 36601.44946066284\n",
      "(4, 312500) 500, error = 36601.44946066284\n",
      "(4, 312500) 500, error = 36601.44946066284\n",
      "(4, 312500) 500, error = 36601.44946066284\n",
      "(4, 312500) 500, error = 36601.44946066284\n",
      "(4, 312500) 500, error = 36601.44946066284\n",
      "(4, 312500) 500, error = 36601.44946066284\n",
      "(4, 312500) 500, error = 36601.44946066284\n",
      "(4, 312500) 500, error = 36601.44946066284\n",
      "(4, 312500) 500, error = 36601.44946066284\n",
      "(4, 312500) 500, error = 36601.44946066284\n",
      "(4, 312500) 500, error = 36601.44946066284\n",
      "(4, 312500) 500, error = 36601.44946066284\n",
      "(4, 312500) 500, error = 36601.44946066284\n",
      "(4, 312500) 500, error = 36601.44946066284\n",
      "(4, 312500) 500, error = 36601.44946066284\n",
      "(4, 312500) 500, error = 36601.44946066284\n",
      "(4, 312500) 500, error = 36601.44946066284\n",
      "(4, 312500) 500, error = 36601.44946066284\n",
      "(4, 312500) 500, error = 36601.44946066284\n",
      "(4, 312500) 500, error = 36601.44946066284\n",
      "(4, 312500) 500, error = 36601.44946066284\n",
      "(4, 312500) 500, error = 36601.44946066284\n",
      "(4, 312500) 500, error = 36601.44946066284\n",
      "(4, 312500) 500, error = 36601.44946066284\n",
      "(4, 312500) 500, error = 36601.44946066284\n",
      "(4, 312500) 500, error = 36601.44946066284\n",
      "(4, 312500) 500, error = 36601.44946066284\n",
      "(4, 312500) 500, error = 36601.44946066284\n",
      "(4, 312500) 500, error = 36601.44946066284\n",
      "(4, 312500) 500, error = 36601.44946066284\n",
      "(4, 312500) 500, error = 36601.44946066284\n",
      "(4, 312500) 500, error = 36601.44946066284\n",
      "(4, 312500) 500, error = 36601.44946066284\n",
      "(4, 312500) 500, error = 36601.44946066284\n",
      "(4, 312500) 500, error = 36601.44946066284\n",
      "(4, 312500) 500, error = 36601.44946066284\n",
      "(4, 312500) 500, error = 36601.44946066284\n",
      "(4, 312500) 500, error = 36601.44946066284\n",
      "(4, 312500) 500, error = 36601.44946066284\n",
      "(4, 312500) 500, error = 36601.44946066284\n",
      "(4, 312500) 500, error = 36601.44946066284\n",
      "(4, 312500) 500, error = 36601.44946066284\n",
      "(4, 312500) 500, error = 36601.44946066284\n",
      "(4, 312500) 500, error = 36601.44946066284\n",
      "(4, 312500) 500, error = 36601.44946066284\n",
      "(4, 312500) 500, error = 36601.44946066284\n",
      "(4, 312500) 500, error = 36601.44946066284\n",
      "(4, 312500) 500, error = 36601.44946066284\n",
      "(4, 312500) 500, error = 36601.44946066284\n"
     ]
    },
    {
     "name": "stdout",
     "output_type": "stream",
     "text": [
      "(4, 312500) 500, error = 36601.44946066284\n",
      "(4, 312500) 500, error = 36601.44946066284\n",
      "(4, 312500) 500, error = 36601.44946066284\n",
      "(4, 312500) 500, error = 36601.44946066284\n",
      "(4, 312500) 500, error = 36601.44946066284\n",
      "(4, 312500) 500, error = 36601.44946066284\n",
      "(4, 312500) 500, error = 36601.44946066284\n",
      "(4, 312500) 500, error = 36601.44946066284\n",
      "(4, 312500) 500, error = 36601.44946066284\n",
      "(4, 312500) 500, error = 36601.44946066284\n",
      "(4, 312500) 500, error = 36601.44946066284\n",
      "(4, 312500) 500, error = 36601.44946066284\n",
      "(4, 312500) 500, error = 36601.44946066284\n",
      "(4, 312500) 500, error = 36601.44946066284\n",
      "(4, 312500) 500, error = 36601.44946066284\n",
      "(4, 312500) 500, error = 36601.44946066284\n",
      "(4, 312500) 500, error = 36601.44946066284\n",
      "(4, 312500) 500, error = 36601.44946066284\n",
      "(4, 312500) 500, error = 36601.44946066284\n",
      "(4, 312500) 500, error = 36601.44946066284\n",
      "(4, 312500) 500, error = 36601.44946066284\n",
      "(4, 312500) 500, error = 36601.44946066284\n",
      "(4, 312500) 500, error = 36601.44946066284\n",
      "(4, 312500) 500, error = 36601.44946066284\n",
      "(4, 312500) 500, error = 36601.44946066284\n",
      "(4, 312500) 500, error = 36601.44946066284\n",
      "(4, 312500) 500, error = 36601.44946066284\n",
      "(4, 312500) 500, error = 36601.44946066284\n",
      "(4, 312500) 500, error = 36601.44946066284\n",
      "(4, 312500) 500, error = 36601.44946066284\n",
      "(4, 312500) 500, error = 36601.44946066284\n",
      "(4, 312500) 500, error = 36601.44946066284\n",
      "(4, 312500) 500, error = 36601.44946066284\n",
      "(4, 312500) 500, error = 36601.44946066284\n",
      "(4, 312500) 500, error = 36601.44946066284\n",
      "(4, 312500) 500, error = 36601.44946066284\n",
      "(4, 312500) 500, error = 36601.44946066284\n",
      "(4, 312500) 500, error = 36601.44946066284\n",
      "(4, 312500) 500, error = 36601.44946066284\n",
      "(4, 312500) 500, error = 36601.44946066284\n",
      "(4, 312500) 500, error = 36601.44946066284\n",
      "(4, 312500) 500, error = 36601.44946066284\n",
      "(4, 312500) 500, error = 36601.44946066284\n",
      "(4, 312500) 500, error = 36601.44946066284\n",
      "(4, 312500) 500, error = 36601.44946066284\n",
      "(4, 312500) 500, error = 36601.44946066284\n",
      "(4, 312500) 500, error = 36601.44946066284\n",
      "(4, 312500) 500, error = 36601.44946066284\n",
      "(4, 312500) 500, error = 36601.44946066284\n",
      "(4, 312500) 500, error = 36601.44946066284\n",
      "(4, 312500) 500, error = 36601.44946066284\n",
      "(4, 312500) 500, error = 36601.44946066284\n",
      "(4, 312500) 500, error = 36601.44946066284\n",
      "(4, 312500) 500, error = 36601.44946066284\n",
      "(4, 312500) 500, error = 36601.44946066284\n",
      "(4, 312500) 500, error = 36601.44946066284\n",
      "(4, 312500) 500, error = 36601.44946066284\n",
      "(4, 312500) 500, error = 36601.44946066284\n",
      "(4, 312500) 500, error = 36601.44946066284\n",
      "(4, 312500) 500, error = 36601.44946066284\n",
      "(4, 312500) 500, error = 36601.44946066284\n",
      "(4, 312500) 500, error = 36601.44946066284\n",
      "(4, 312500) 500, error = 36601.44946066284\n",
      "(4, 312500) 500, error = 36601.44946066284\n",
      "(4, 312500) 500, error = 36601.44946066284\n",
      "(4, 312500) 500, error = 36601.44946066284\n",
      "(4, 312500) 500, error = 36601.44946066284\n",
      "(4, 312500) 500, error = 36601.44946066284\n",
      "(4, 312500) 500, error = 36601.44946066284\n",
      "(4, 312500) 500, error = 36601.44946066284\n",
      "(4, 312500) 500, error = 36601.44946066284\n",
      "(4, 312500) 500, error = 36601.44946066284\n",
      "(4, 312500) 500, error = 36601.44946066284\n",
      "(4, 312500) 500, error = 36601.44946066284\n",
      "(4, 312500) 500, error = 36601.44946066284\n",
      "(4, 312500) 500, error = 36601.44946066284\n",
      "(4, 312500) 500, error = 36601.44946066284\n",
      "(4, 312500) 500, error = 36601.44946066284\n",
      "(4, 312500) 500, error = 36601.44946066284\n",
      "(4, 312500) 500, error = 36601.44946066284\n",
      "(4, 312500) 500, error = 36601.44946066284\n",
      "(4, 312500) 500, error = 36601.44946066284\n",
      "(4, 312500) 500, error = 36601.44946066284\n",
      "(4, 312500) 500, error = 36601.44946066284\n",
      "(4, 312500) 500, error = 36601.44946066284\n",
      "(4, 312500) 500, error = 36601.44946066284\n",
      "(4, 312500) 500, error = 36601.44946066284\n",
      "(4, 312500) 500, error = 36601.44946066284\n",
      "(4, 312500) 500, error = 36601.44946066284\n",
      "(4, 312500) 500, error = 36601.44946066284\n",
      "(4, 312500) 500, error = 36601.44946066284\n",
      "(4, 312500) 500, error = 36601.44946066284\n",
      "(4, 312500) 500, error = 36601.44946066284\n",
      "(4, 312500) 500, error = 36601.44946066284\n",
      "(4, 312500) 500, error = 36601.44946066284\n",
      "(4, 312500) 500, error = 36601.44946066284\n",
      "(4, 312500) 500, error = 36601.44946066284\n",
      "(4, 312500) 500, error = 36601.44946066284\n",
      "(4, 312500) 500, error = 36601.44946066284\n",
      "(4, 312500) 500, error = 36601.44946066284\n",
      "(4, 312500) 500, error = 36601.44946066284\n",
      "(4, 312500) 500, error = 36601.44946066284\n",
      "(4, 312500) 500, error = 36601.44946066284\n",
      "(4, 312500) 500, error = 36601.44946066284\n",
      "(4, 312500) 500, error = 36601.44946066284\n",
      "(4, 312500) 500, error = 36601.44946066284\n",
      "(4, 312500) 500, error = 36601.44946066284\n",
      "(4, 312500) 500, error = 36601.44946066284\n",
      "(4, 312500) 500, error = 36601.44946066284\n",
      "(4, 312500) 500, error = 36601.44946066284\n",
      "(4, 312500) 500, error = 36601.44946066284\n",
      "(4, 312500) 500, error = 36601.44946066284\n",
      "(4, 312500) 500, error = 36601.44946066284\n",
      "(4, 312500) 500, error = 36601.44946066284\n",
      "(4, 312500) 500, error = 36601.44946066284\n",
      "epoch 500 / 500, error = 36601.44946066284\r"
     ]
    }
   ],
   "source": [
    "net.fit(train)\n",
    "net.is_fitted = True "
   ]
  },
  {
   "cell_type": "code",
   "execution_count": 12,
   "id": "aab57ce5",
   "metadata": {},
   "outputs": [
    {
     "name": "stdout",
     "output_type": "stream",
     "text": [
      "(4, 1875)\n",
      "\n",
      "\n",
      "predicted values : \n",
      "[[0. 0. 0. 0. 0. 0. 0. 0. 0. 0.]\n",
      " [0. 0. 0. 0. 0. 0. 0. 0. 0. 0.]\n",
      " [0. 0. 0. 0. 0. 0. 0. 0. 0. 0.]]\n",
      "true values : \n",
      "[[0. 0. 0. 0. 0. 0. 0. 1. 0. 0.]\n",
      " [0. 0. 1. 0. 0. 0. 0. 0. 0. 0.]\n",
      " [0. 1. 0. 0. 0. 0. 0. 0. 0. 0.]]\n"
     ]
    }
   ],
   "source": [
    "out = net.predict(test.X[0:3])\n",
    "print(\"\\n\")\n",
    "print(\"predicted values : \")\n",
    "print(np.round(out), end = \"\\n\")\n",
    "print(\"true values : \")\n",
    "print(test.y[0:3])"
   ]
  },
  {
   "cell_type": "code",
   "execution_count": 13,
   "id": "e0198faa",
   "metadata": {},
   "outputs": [],
   "source": [
    "conv1 = net.layers[0]\n",
    "act1 = net.layers[1]\n",
    "pool1 = net.layers[2]"
   ]
  },
  {
   "cell_type": "code",
   "execution_count": 14,
   "id": "ee419f6b",
   "metadata": {},
   "outputs": [
    {
     "data": {
      "image/png": "[encoded data removed]",
      "text/plain": [
       "<Figure size 432x288 with 1 Axes>"
      ]
     },
     "metadata": {
      "needs_background": "light"
     },
     "output_type": "display_data"
    }
   ],
   "source": [
    "img1 = conv1.forward(test.X[:1])\n",
    "plot_img(img1, shape = (26, 26))"
   ]
  },
  {
   "cell_type": "code",
   "execution_count": 15,
   "id": "7b43c6cd",
   "metadata": {},
   "outputs": [
    {
     "name": "stdout",
     "output_type": "stream",
     "text": [
      "(4, 625)\n"
     ]
    },
    {
     "data": {
      "image/png": "[encoded data removed]",
      "text/plain": [
       "<Figure size 432x288 with 1 Axes>"
      ]
     },
     "metadata": {
      "needs_background": "light"
     },
     "output_type": "display_data"
    }
   ],
   "source": [
    "img2= pool1.forward(act1.forward(img1))\n",
    "plot_img(img2, shape = (25, 25))"
   ]
  }
 ],
 "metadata": {
  "kernelspec": {
   "display_name": "Python 3",
   "language": "python",
   "name": "python3"
  },
  "language_info": {
   "codemirror_mode": {
    "name": "ipython",
    "version": 3
   },
   "file_extension": ".py",
   "mimetype": "text/x-python",
   "name": "python",
   "nbconvert_exporter": "python",
   "pygments_lexer": "ipython3",
   "version": "3.8.8"
  }
 },
 "nbformat": 4,
 "nbformat_minor": 5
}
