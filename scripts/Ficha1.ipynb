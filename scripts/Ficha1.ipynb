{
 "cells": [
  {
   "cell_type": "markdown",
   "id": "b81c0500",
   "metadata": {},
   "source": [
    "# Sistemas Inteligentes para Bioinformática"
   ]
  },
  {
   "cell_type": "markdown",
   "id": "0332d971",
   "metadata": {},
   "source": [
    "Exemplos de validação de código. Deverá corrigir os imports e diretórios de acordo com a sua implementação."
   ]
  },
  {
   "cell_type": "code",
   "execution_count": null,
   "id": "d7a5bba2",
   "metadata": {},
   "outputs": [],
   "source": [
    "import os\n",
    "from si.data.Dataset import Dataset\n",
    "from si.util.Util import summary"
   ]
  },
  {
   "cell_type": "code",
   "execution_count": null,
   "id": "4df58c0c",
   "metadata": {},
   "outputs": [],
   "source": [
    "DIR = os.path.dirname(os.path.realpath('.'))\n",
    "filename = os.path.join(DIR, 'datasets\\\\breast-bin.data')"
   ]
  },
  {
   "cell_type": "markdown",
   "id": "410820e3",
   "metadata": {},
   "source": [
    "## Labeled dataset"
   ]
  },
  {
   "cell_type": "code",
   "execution_count": null,
   "id": "bf1b9bb6",
   "metadata": {},
   "outputs": [],
   "source": [
    "dataset = Dataset.from_data(filename, labeled = True)"
   ]
  },
  {
   "cell_type": "code",
   "execution_count": null,
   "id": "09fb7585",
   "metadata": {},
   "outputs": [],
   "source": [
    "dataset.X[:5, :]"
   ]
  },
  {
   "cell_type": "code",
   "execution_count": null,
   "id": "593bebab",
   "metadata": {},
   "outputs": [],
   "source": [
    "dataset.y[:5]"
   ]
  },
  {
   "cell_type": "code",
   "execution_count": null,
   "id": "b3420783",
   "metadata": {},
   "outputs": [],
   "source": [
    "print(\"Has label:\", dataset.hasLabel())\n",
    "print(\"Number of features:\", dataset.getNumFeatures())\n",
    "print(\"Number of classes:\", dataset.getNumClasses())\n",
    "summary(dataset)"
   ]
  },
  {
   "cell_type": "code",
   "execution_count": null,
   "id": "a3035f51",
   "metadata": {},
   "outputs": [],
   "source": [
    "dataset.toDataFrame()"
   ]
  },
  {
   "cell_type": "markdown",
   "id": "687d166e",
   "metadata": {},
   "source": [
    "## Standard Scaler"
   ]
  },
  {
   "cell_type": "code",
   "execution_count": null,
   "id": "8cbef39a",
   "metadata": {},
   "outputs": [],
   "source": [
    "from si.util.Scale import StandardScaler"
   ]
  },
  {
   "cell_type": "code",
   "execution_count": null,
   "id": "57b53dc3",
   "metadata": {},
   "outputs": [],
   "source": [
    "sc = StandardScaler()\n",
    "ds2 = sc.fit_transform(dataset)\n",
    "summary(ds2)"
   ]
  },
  {
   "cell_type": "markdown",
   "id": "b181d714",
   "metadata": {},
   "source": [
    "# Feature Selection"
   ]
  },
  {
   "cell_type": "code",
   "execution_count": null,
   "id": "3f0c165a",
   "metadata": {},
   "outputs": [],
   "source": [
    "from si.data.Feature_selection import f_regression, SelectKBest, VarianceThreshold"
   ]
  },
  {
   "cell_type": "markdown",
   "id": "6e9c9353",
   "metadata": {},
   "source": [
    "## Variance Threshold"
   ]
  },
  {
   "cell_type": "code",
   "execution_count": null,
   "id": "077b82dd",
   "metadata": {},
   "outputs": [],
   "source": [
    "vt = VarianceThreshold(8)\n",
    "ds2 = vt.fit_transform(dataset)\n",
    "summary(ds2)"
   ]
  },
  {
   "cell_type": "markdown",
   "id": "af2a1979",
   "metadata": {},
   "source": [
    "## SelectKBest"
   ]
  },
  {
   "cell_type": "code",
   "execution_count": null,
   "id": "3d5a323c",
   "metadata": {},
   "outputs": [],
   "source": [
    "# SelectKBest for classification\n",
    "skb = SelectKBest(5)\n",
    "ds3 = skb.fit_transform(dataset)\n",
    "summary(ds3)\n"
   ]
  },
  {
   "cell_type": "markdown",
   "id": "d32dff4c",
   "metadata": {},
   "source": [
    "# Clustering"
   ]
  },
  {
   "cell_type": "code",
   "execution_count": null,
   "id": "1c263bdb",
   "metadata": {},
   "outputs": [],
   "source": [
    "from si.unsupervised.Kmeans import KMeans\n",
    "import pandas as pd\n",
    "import matplotlib.pyplot as plt"
   ]
  },
  {
   "cell_type": "code",
   "execution_count": null,
   "id": "919dcf2c",
   "metadata": {
    "pycharm": {
     "name": "#%%\n"
    }
   },
   "outputs": [],
   "source": [
    "# o dataset iris nao estava inicialmente no github\n",
    "filename = os.path.join(DIR, 'datasets/iris.data')\n",
    "df = pd.read_csv(filename)\n",
    "iris = Dataset.from_dataframe(df, ylabel = \"class\")"
   ]
  },
  {
   "cell_type": "code",
   "execution_count": null,
   "id": "a8538bcd",
   "metadata": {},
   "outputs": [],
   "source": [
    "# indice das features para o plot\n",
    "c1 = 0\n",
    "c2 = 1\n",
    "# plot\n",
    "plt.scatter(iris.X[:,c1], iris.X[:,c2])\n",
    "plt.xlabel(iris.xnames[c1])\n",
    "plt.ylabel(iris.xnames[c2])\n",
    "plt.show()"
   ]
  },
  {
   "cell_type": "code",
   "execution_count": null,
   "id": "3a83563a",
   "metadata": {},
   "outputs": [],
   "source": [
    "kmeans = KMeans(3)\n",
    "cent, clust = kmeans.fit_transform(iris)"
   ]
  },
  {
   "cell_type": "code",
   "execution_count": null,
   "id": "4a9cc736",
   "metadata": {},
   "outputs": [],
   "source": [
    "plt.scatter(iris.X[:,c1], iris.X[:,c2], c = clust)\n",
    "plt.scatter(cent[:,c1],cent[:,c2], s = 100, c = 'black', marker = 'x')\n",
    "plt.xlabel(iris.xnames[c1])\n",
    "plt.ylabel(iris.xnames[c2])\n",
    "plt.show()"
   ]
  },
  {
   "cell_type": "markdown",
   "id": "2d9f986e",
   "metadata": {},
   "source": [
    "# PCA"
   ]
  },
  {
   "cell_type": "code",
   "execution_count": null,
   "id": "2bb872c5",
   "metadata": {},
   "outputs": [],
   "source": [
    "from si.unsupervised import PCA"
   ]
  },
  {
   "cell_type": "code",
   "execution_count": null,
   "id": "36ccdbee",
   "metadata": {},
   "outputs": [],
   "source": [
    "pca = PCA(2, scale = True)"
   ]
  },
  {
   "cell_type": "code",
   "execution_count": null,
   "id": "5973a1a1",
   "metadata": {},
   "outputs": [],
   "source": [
    "reduced = pca.fit_transform(iris)\n",
    "print(pca.variance_explained())"
   ]
  },
  {
   "cell_type": "code",
   "execution_count": null,
   "id": "165737a0",
   "metadata": {},
   "outputs": [],
   "source": [
    "iris_pca = Dataset(reduced[0], iris.y, xnames = ['pc1', 'pc2'], yname = 'class')\n",
    "iris_pca.toDataFrame()"
   ]
  },
  {
   "cell_type": "code",
   "execution_count": null,
   "id": "7ca96668",
   "metadata": {},
   "outputs": [],
   "source": [
    "plt.scatter(iris_pca.X[:,0], iris_pca.X[:,1])\n",
    "plt.xlabel(\"PC1\")\n",
    "plt.ylabel(\"PC2\")\n",
    "plt.show()"
   ]
  },
  {
   "cell_type": "markdown",
   "id": "1ac91dff",
   "metadata": {},
   "source": [
    "# KNN"
   ]
  },
  {
   "cell_type": "code",
   "execution_count": null,
   "id": "e72846a9",
   "metadata": {},
   "outputs": [],
   "source": [
    "from si.supervised.KNN import KNN\n",
    "# from src.si.util.util import train_test_split"
   ]
  },
  {
   "cell_type": "code",
   "execution_count": null,
   "id": "313f8520",
   "metadata": {},
   "outputs": [],
   "source": [
    "knn = KNN(3)"
   ]
  },
  {
   "cell_type": "code",
   "execution_count": null,
   "id": "3da86028",
   "metadata": {},
   "outputs": [],
   "source": [
    "knn.fit(iris)"
   ]
  },
  {
   "cell_type": "code",
   "execution_count": null,
   "id": "0835bffe",
   "metadata": {},
   "outputs": [],
   "source": [
    "# the index of a dataset entry\n",
    "id = 50\n",
    "\n",
    "# prediction\n",
    "x = iris.X[id, :]\n",
    "\n",
    "pred = knn.predict(x)\n",
    "\n",
    "print(f'Prediction: {pred}')\n",
    "print(f'True: {iris.y[id]}')"
   ]
  },
  {
   "cell_type": "code",
   "execution_count": null,
   "id": "07f8ce25",
   "metadata": {},
   "outputs": [],
   "source": [
    "print(knn.cost())"
   ]
  },
  {
   "cell_type": "code",
   "execution_count": null,
   "id": "5d831af0",
   "metadata": {},
   "outputs": [],
   "source": [
    "from si.util import train_test_split"
   ]
  },
  {
   "cell_type": "code",
   "execution_count": null,
   "id": "01f0be1d",
   "metadata": {},
   "outputs": [],
   "source": [
    "train, test = train_test_split(dataset)\n",
    "print(train.X.shape)\n",
    "print(test.X.shape)"
   ]
  },
  {
   "cell_type": "code",
   "execution_count": null,
   "id": "f036be71",
   "metadata": {},
   "outputs": [],
   "source": [
    "summary(train)"
   ]
  },
  {
   "cell_type": "code",
   "execution_count": null,
   "id": "9eab4175",
   "metadata": {},
   "outputs": [],
   "source": [
    "summary(test)"
   ]
  },
  {
   "cell_type": "code",
   "execution_count": null,
   "id": "3494d95f",
   "metadata": {},
   "outputs": [],
   "source": [
    "knn = KNN(3)\n",
    "knn.fit(train)\n",
    "knn.cost()"
   ]
  }
 ],
 "metadata": {
  "kernelspec": {
   "display_name": "Python 3",
   "language": "python",
   "name": "python3"
  },
  "language_info": {
   "codemirror_mode": {
    "name": "ipython",
    "version": 3
   },
   "file_extension": ".py",
   "mimetype": "text/x-python",
   "name": "python",
   "nbconvert_exporter": "python",
   "pygments_lexer": "ipython3",
   "version": "3.8.8"
  }
 },
 "nbformat": 4,
 "nbformat_minor": 5
}
