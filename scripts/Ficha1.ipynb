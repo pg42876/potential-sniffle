{
 "cells": [
  {
   "cell_type": "markdown",
   "id": "b81c0500",
   "metadata": {},
   "source": [
    "# Sistemas Inteligentes para Bioinformática"
   ]
  },
  {
   "cell_type": "markdown",
   "id": "0332d971",
   "metadata": {},
   "source": [
    "Exemplos de validação de código. Deverá corrigir os imports e diretórios de acordo com a sua implementação."
   ]
  },
  {
   "cell_type": "code",
   "execution_count": null,
   "id": "d7a5bba2",
   "metadata": {},
   "outputs": [],
   "source": [
    "import pandas as pd\n",
    "from si.data.dataset import Dataset\n",
    "from si.util.util import summary\n",
    "from si.util.scale import StandardScaler #Standard Scale\n",
    "from si.data.feature_selection import f_regression, SelectKBest, VarianceThreshold #Feature Selection\n",
    "from si.unsupervised.Clustering import Kmeans #Clustering\n",
    "import matplotlib.pyplot as plt\n",
    "from si.unsupervised.Clustering import PCA #PCA\n",
    "from src.si.supervised.KNN import KNN\n",
    "from src.si.util.util import train_test_split\n",
    "import os"
   ]
  },
  {
   "cell_type": "code",
   "execution_count": null,
   "id": "4df58c0c",
   "metadata": {},
   "outputs": [],
   "source": [
    "DIR = os.path.dirname(os.path.realpath('.'))\n",
    "filename = os.path.join(DIR, 'potential-sniffle/datasets/breast-bin.data')"
   ]
  },
  {
   "cell_type": "markdown",
   "id": "410820e3",
   "metadata": {},
   "source": [
    "## Labeled dataset"
   ]
  },
  {
   "cell_type": "code",
   "execution_count": null,
   "id": "bf1b9bb6",
   "metadata": {},
   "outputs": [],
   "source": [
    "dataset = Dataset.from_data(filename, labeled = True)"
   ]
  },
  {
   "cell_type": "code",
   "execution_count": null,
   "id": "09fb7585",
   "metadata": {},
   "outputs": [],
   "source": [
    "dataset.X[:5, :]"
   ]
  },
  {
   "cell_type": "code",
   "execution_count": null,
   "id": "593bebab",
   "metadata": {},
   "outputs": [],
   "source": [
    "dataset.Y[:5]"
   ]
  },
  {
   "cell_type": "code",
   "execution_count": null,
   "id": "b3420783",
   "metadata": {},
   "outputs": [],
   "source": [
    "print(\"Has label:\", dataset.hasLabel())\n",
    "print(\"Number of features:\", dataset.getNumFeatures())\n",
    "print(\"Number of classes:\", dataset.getNumClasses())\n",
    "summary(dataset)"
   ]
  },
  {
   "cell_type": "code",
   "execution_count": null,
   "id": "a3035f51",
   "metadata": {},
   "outputs": [],
   "source": [
    "dataset.toDataframe()"
   ]
  },
  {
   "cell_type": "markdown",
   "id": "687d166e",
   "metadata": {},
   "source": [
    "## Standard Scaler"
   ]
  },
  {
   "cell_type": "code",
   "execution_count": null,
   "id": "57b53dc3",
   "metadata": {},
   "outputs": [],
   "source": [
    "sc = StandardScaler()\n",
    "ds2 = sc.fit_transform(dataset)\n",
    "summary(ds2)"
   ]
  },
  {
   "cell_type": "markdown",
   "id": "b181d714",
   "metadata": {},
   "source": [
    "# Feature Selection"
   ]
  },
  {
   "cell_type": "markdown",
   "id": "6e9c9353",
   "metadata": {
    "collapsed": false
   },
   "source": [
    "## Variance Threshold"
   ]
  },
  {
   "cell_type": "code",
   "execution_count": null,
   "id": "077b82dd",
   "metadata": {},
   "outputs": [],
   "source": [
    "vt = VarianceThreshold(8)\n",
    "ds2 = vt.fit_transform(dataset)\n",
    "summary(ds2)"
   ]
  },
  {
   "cell_type": "markdown",
   "id": "af2a1979",
   "metadata": {},
   "source": [
    "## SelectKBest"
   ]
  },
  {
   "cell_type": "code",
   "execution_count": null,
   "id": "3d5a323c",
   "metadata": {},
   "outputs": [],
   "source": [
    "# SelectKBest for classification\n",
    "skb = SelectKBest(5)\n",
    "ds3 = skb.fit_transform(dataset)\n",
    "summary(ds3)\n"
   ]
  },
  {
   "cell_type": "markdown",
   "id": "d32dff4c",
   "metadata": {},
   "source": [
    "# Clustering"
   ]
  },
  {
   "cell_type": "code",
   "execution_count": null,
   "id": "919dcf2c",
   "metadata": {
    "collapsed": false,
    "pycharm": {
     "name": "#%%\n"
    }
   },
   "outputs": [],
   "source": [
    "# o dataset iris nao estava inicialmente no github\n",
    "filename = os.path.join(DIR, 'potential-sniffle/datasets/iris.data')\n",
    "df = pd.read_csv(filename)\n",
    "iris = Dataset.from_dataframe(df, ylabel = \"class\")"
   ]
  },
  {
   "cell_type": "code",
   "execution_count": null,
   "id": "a8538bcd",
   "metadata": {},
   "outputs": [],
   "source": [
    "# indice das features para o plot\n",
    "c1 = 0\n",
    "c2 = 1\n",
    "# plot\n",
    "plt.scatter(iris.X.iloc[:,c1], iris.X.iloc[:,c2])\n",
    "plt.xlabel(iris._xnames[c1])\n",
    "plt.ylabel(iris._xnames[c2])\n",
    "plt.show()"
   ]
  },
  {
   "cell_type": "code",
   "execution_count": null,
   "id": "3a83563a",
   "metadata": {},
   "outputs": [],
   "source": [
    "kmeans = Kmeans(3)\n",
    "cent, clust = kmeans.fit_transform(iris)"
   ]
  },
  {
   "cell_type": "code",
   "execution_count": null,
   "id": "4a9cc736",
   "metadata": {},
   "outputs": [],
   "source": [
    "\n",
    "plt.scatter(iris.X.iloc[:,c1], iris.X.iloc[:,c2], c = clust)\n",
    "plt.scatter(cent[:,c1],cent[:,c2], s = 100, c = 'black', marker = 'x')\n",
    "plt.xlabel(iris._xnames[c1])\n",
    "plt.ylabel(iris._xnames[c2])\n",
    "plt.show()"
   ]
  },
  {
   "cell_type": "markdown",
   "id": "2d9f986e",
   "metadata": {},
   "source": [
    "# PCA"
   ]
  },
  {
   "cell_type": "code",
   "execution_count": null,
   "id": "36ccdbee",
   "metadata": {},
   "outputs": [],
   "source": [
    "pca = PCA(2, method = 'svd')"
   ]
  },
  {
   "cell_type": "code",
   "execution_count": null,
   "id": "5973a1a1",
   "metadata": {},
   "outputs": [],
   "source": [
    "reduced = pca.fit_transform(iris)\n",
    "print(pca.variance_transform())"
   ]
  },
  {
   "cell_type": "code",
   "execution_count": null,
   "id": "165737a0",
   "metadata": {},
   "outputs": [],
   "source": [
    "iris_pca = Dataset(reduced[0], iris.Y, xnames = ['pc1', 'pc2'], yname = 'class')\n",
    "iris_pca.toDataframe()"
   ]
  },
  {
   "cell_type": "code",
   "execution_count": null,
   "id": "7ca96668",
   "metadata": {},
   "outputs": [],
   "source": [
    "plt.scatter(iris_pca.X[:,0], iris_pca.X[:,1])\n",
    "plt.xlabel(\"PC1\")\n",
    "plt.ylabel(\"PC2\")\n",
    "plt.show()"
   ]
  },
  {
   "cell_type": "code",
   "execution_count": null,
   "id": "0908c3c8",
   "metadata": {},
   "outputs": [],
   "source": [
    "dataset_train, dataset_test = train_test_split(dataset)\n",
    "print(dataset_train.X.shape)\n",
    "print(dataset_test.X.shape)\n",
    "knn = KNN(3)\n",
    "knn.fit(dataset_train)\n",
    "knn.cost()\n"
   ]
  },
  {
   "cell_type": "markdown",
   "id": "1ac91dff",
   "metadata": {},
   "source": [
    "# KNN"
   ]
  },
  {
   "cell_type": "code",
   "execution_count": null,
   "id": "e72846a9",
   "metadata": {},
   "outputs": [],
   "source": [
    "from src.si.supervised.KNN import KNN\n",
    "# from src.si.util.util import train_test_split\n",
    "knn = KNN(3)"
   ]
  },
  {
   "cell_type": "code",
   "execution_count": null,
   "id": "0835bffe",
   "metadata": {},
   "outputs": [],
   "source": [
    "knn.fit(iris)\n",
    "\n",
    "id = 39\n",
    "x = iris.X[id, :]\n",
    "pred = knn.predict(x)\n",
    "\n",
    "print(f'Prediction: {pred}')\n",
    "print(f'True: {iris.Y[id]}')\n",
    "print(knn.cost())"
   ]
  }
 ],
 "metadata": {
  "kernelspec": {
   "display_name": "Python 3",
   "language": "python",
   "name": "python3"
  },
  "language_info": {
   "codemirror_mode": {
    "name": "ipython",
    "version": 3
   },
   "file_extension": ".py",
   "mimetype": "text/x-python",
   "name": "python",
   "nbconvert_exporter": "python",
   "pygments_lexer": "ipython3",
   "version": "3.8.8"
  }
 },
 "nbformat": 4,
 "nbformat_minor": 5
}
