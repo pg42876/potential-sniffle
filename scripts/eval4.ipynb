{
 "cells": [
  {
   "cell_type": "markdown",
   "id": "f07b8dde",
   "metadata": {},
   "source": [
    "# Neural Networks"
   ]
  },
  {
   "cell_type": "markdown",
   "id": "423f292f",
   "metadata": {},
   "source": [
    "## XNOR"
   ]
  },
  {
   "cell_type": "code",
   "execution_count": 1,
   "id": "698c23e4",
   "metadata": {},
   "outputs": [],
   "source": [
    "import numpy as np\n",
    "from si.data import Dataset\n",
    "X = np.array([[0,0], [0,1], [1,0], [1,1]])#data\n",
    "y = np.array([[1], [0], [0], [1]])#label\n",
    "dataset = Dataset(X,y,['X1','X2'],'X1 XNOR X2')"
   ]
  },
  {
   "cell_type": "code",
   "execution_count": 2,
   "id": "5539ea95",
   "metadata": {},
   "outputs": [
    {
     "data": {
      "text/plain": "   X1  X2  X1 XNOR X2\n0   0   0           1\n1   0   1           0\n2   1   0           0\n3   1   1           1",
      "text/html": "<div>\n<style scoped>\n    .dataframe tbody tr th:only-of-type {\n        vertical-align: middle;\n    }\n\n    .dataframe tbody tr th {\n        vertical-align: top;\n    }\n\n    .dataframe thead th {\n        text-align: right;\n    }\n</style>\n<table border=\"1\" class=\"dataframe\">\n  <thead>\n    <tr style=\"text-align: right;\">\n      <th></th>\n      <th>X1</th>\n      <th>X2</th>\n      <th>X1 XNOR X2</th>\n    </tr>\n  </thead>\n  <tbody>\n    <tr>\n      <th>0</th>\n      <td>0</td>\n      <td>0</td>\n      <td>1</td>\n    </tr>\n    <tr>\n      <th>1</th>\n      <td>0</td>\n      <td>1</td>\n      <td>0</td>\n    </tr>\n    <tr>\n      <th>2</th>\n      <td>1</td>\n      <td>0</td>\n      <td>0</td>\n    </tr>\n    <tr>\n      <th>3</th>\n      <td>1</td>\n      <td>1</td>\n      <td>1</td>\n    </tr>\n  </tbody>\n</table>\n</div>"
     },
     "execution_count": 2,
     "metadata": {},
     "output_type": "execute_result"
    }
   ],
   "source": [
    "dataset.toDataframe()"
   ]
  },
  {
   "cell_type": "code",
   "execution_count": 3,
   "id": "049da626",
   "metadata": {},
   "outputs": [],
   "source": [
    "from si.supervised import NN, Dense, Activation\n",
    "from si.util import Sigmoid, cross_entropy, cross_entropy_prime"
   ]
  },
  {
   "cell_type": "code",
   "execution_count": 4,
   "id": "34441798",
   "metadata": {},
   "outputs": [
    {
     "name": "stdout",
     "output_type": "stream",
     "text": [
      "<si.supervised.NN.Dense object at 0x000001FF6C7C4BE0>\n"
     ]
    }
   ],
   "source": [
    "# layer1 weights\n",
    "w1 = np.array([[20,-20],[20,-20]])\n",
    "b1 = np.array([[-30, 10]])\n",
    "l1 = Dense(2, 2)\n",
    "l1.setWeights(w1,b1)"
   ]
  },
  {
   "cell_type": "code",
   "execution_count": 5,
   "id": "8149016a",
   "metadata": {},
   "outputs": [],
   "source": [
    "# layer2 weights\n",
    "w2 = np.array([[20],[20]])\n",
    "b2 = np.array([[-10]])\n",
    "l2 = Dense(2, 1)\n",
    "l2.setWeights(w2,b2)"
   ]
  },
  {
   "cell_type": "code",
   "execution_count": 6,
   "id": "3e69a316",
   "metadata": {},
   "outputs": [],
   "source": [
    "# Build the NN\n",
    "nn = NN()\n",
    "nn.add(l1)\n",
    "nn.add(Activation(Sigmoid()))#chama a activation function sigmoid\n",
    "nn.add(l2)\n",
    "nn.add(Activation(Sigmoid()))#chama a activation function sigmoid\n",
    "# pass the info that the model is fitted\n",
    "nn.is_fitted = True"
   ]
  },
  {
   "cell_type": "code",
   "execution_count": 7,
   "id": "b8f8ed58",
   "metadata": {},
   "outputs": [
    {
     "data": {
      "text/plain": "array([[1.],\n       [0.],\n       [0.],\n       [1.]])"
     },
     "execution_count": 7,
     "metadata": {},
     "output_type": "execute_result"
    }
   ],
   "source": [
    "np.round(nn.predict(dataset.X)) #dataset.X = data para obter o output"
   ]
  },
  {
   "cell_type": "code",
   "execution_count": 8,
   "id": "a0bec0a5",
   "metadata": {},
   "outputs": [
    {
     "data": {
      "text/plain": "2.066588540474394e-09"
     },
     "execution_count": 8,
     "metadata": {},
     "output_type": "execute_result"
    }
   ],
   "source": [
    "nn.cost(dataset.X,dataset.y)"
   ]
  },
  {
   "cell_type": "markdown",
   "id": "a21d4930",
   "metadata": {},
   "source": [
    "## Train the model using backpropagation"
   ]
  },
  {
   "cell_type": "code",
   "execution_count": 9,
   "id": "187d0e28",
   "metadata": {},
   "outputs": [],
   "source": [
    "nn2 = NN(epochs=100000,lr=0.1, verbose=False)\n",
    "nn2.add(Dense(2, 2))\n",
    "nn2.add(Activation(Sigmoid()))\n",
    "nn2.add(Dense(2, 1))\n",
    "nn2.add(Activation(Sigmoid()))\n",
    "# use cross entropy instead of MSE as loss function\n",
    "# nn2.use(cross_entropy,cross_entropy_prime)"
   ]
  },
  {
   "cell_type": "code",
   "execution_count": 10,
   "id": "8dc1623c",
   "metadata": {},
   "outputs": [
    {
     "name": "stdout",
     "output_type": "stream",
     "text": [
      "epoch 100000/100000, error= 0.0006957770336707008\r 3195/100000, error= 0.25000168395402605epoch 4048/100000, error= 0.25000133792484125epoch 4478/100000, error= 0.2500011728688533epoch 5439/100000, error= 0.250000823921409epoch 5963/100000, error= 0.25000064402138034epoch 8061/100000, error= 0.24999998299591542epoch 8615/100000, error= 0.24999982139403143epoch 9224/100000, error= 0.24999964872451375epoch 9856/100000, error= 0.24999947435031167epoch 10486/100000, error= 0.24999930471742013epoch 11119/100000, error= 0.2499991378186618epoch 11735/100000, error= 0.24999897819784933epoch 14223/100000, error= 0.2499983499703569epoch 17035/100000, error= 0.24999763760328564epoch 19442/100000, error= 0.24999698750425647epoch 20082/100000, error= 0.249996803435377epoch 21331/100000, error= 0.24999642564652547epoch 22596/100000, error= 0.24999601233590876epoch 23203/100000, error= 0.24999580082782002epoch 23834/100000, error= 0.2499955705210935epoch 25090/100000, error= 0.2499950757368693epoch 26333/100000, error= 0.2499945295764588epoch 28101/100000, error= 0.24999363091522248epoch 28637/100000, error= 0.24999332434982735epoch 30451/100000, error= 0.24999213930412575epoch 31698/100000, error= 0.2499911626352691epoch 34561/100000, error= 0.24998820706963798epoch 36375/100000, error= 0.24998558250200614epoch 36905/100000, error= 0.24998466085402507epoch 37470/100000, error= 0.2499835835341439epoch 38039/100000, error= 0.24998238637955628epoch 38483/100000, error= 0.24998136376716104epoch 39706/100000, error= 0.249978064830441epoch 40315/100000, error= 0.24997610180239846epoch 40843/100000, error= 0.24997418805914984epoch 41399/100000, error= 0.24997192401970403epoch 42612/100000, error= 0.2499658716652886epoch 43221/100000, error= 0.24996209762716426epoch 44460/100000, error= 0.24995229054336782epoch 49115/100000, error= 0.24984580851801827epoch 49644/100000, error= 0.24981509089962767epoch 50261/100000, error= 0.2497669986134139epoch 51475/100000, error= 0.24960394311680117epoch 52118/100000, error= 0.24944767492698772epoch 52733/100000, error= 0.24920787425489532epoch 53235/100000, error= 0.2488973907318291epoch 54929/100000, error= 0.2454977650263708epoch 55532/100000, error= 0.24180436556781215epoch 56150/100000, error= 0.23479268193570713epoch 57291/100000, error= 0.21102755524368563epoch 57760/100000, error= 0.197688679663223epoch 58945/100000, error= 0.13035100809535904epoch 59550/100000, error= 0.0762078056400437epoch 61339/100000, error= 0.020172394118863162epoch 61847/100000, error= 0.015926448546252654epoch 62134/100000, error= 0.014170653656057172epoch 62632/100000, error= 0.011833368957474727epoch 63742/100000, error= 0.0085363485426261epoch 64316/100000, error= 0.007424529549739243epoch 64891/100000, error= 0.006552043185585825epoch 65931/100000, error= 0.005381243474308521epoch 66437/100000, error= 0.004943381089995775epoch 66990/100000, error= 0.004535638596540902epoch 67559/100000, error= 0.004177441273798257epoch 69206/100000, error= 0.003389293535809178epoch 70636/100000, error= 0.002904240328656814epoch 71164/100000, error= 0.0027570509794271033epoch 71923/100000, error= 0.0025687867382250245epoch 72347/100000, error= 0.0024739346385433923epoch 73110/100000, error= 0.0023191061355578575epoch 73481/100000, error= 0.0022503351585471953epoch 75876/100000, error= 0.0018859751138909809epoch 76288/100000, error= 0.0018344518980638498epoch 76657/100000, error= 0.001790549025817568epoch 77494/100000, error= 0.0016980824245728375epoch 77977/100000, error= 0.0016487897369118025epoch 78903/100000, error= 0.0015616012952874947epoch 79367/100000, error= 0.001521172283977566epoch 80634/100000, error= 0.0014204042766095724epoch 81046/100000, error= 0.0013903575570539208epoch 81932/100000, error= 0.0013297250014491532epoch 82336/100000, error= 0.0013037416409859405epoch 82691/100000, error= 0.0012817061487059881epoch 83073/100000, error= 0.0012587846967829284epoch 83497/100000, error= 0.00123425343901751epoch 83912/100000, error= 0.00121112183624306epoch 84327/100000, error= 0.0011888137716703226epoch 85846/100000, error= 0.0011135300981628916epoch 86219/100000, error= 0.001096435603161024epoch 86614/100000, error= 0.001078878372826603epoch 88548/100000, error= 0.001000227442833935epoch 89081/100000, error= 0.000980470637518778epoch 89542/100000, error= 0.000963983273176664epoch 90004/100000, error= 0.0009479911555191014epoch 90281/100000, error= 0.0009386473207577938epoch 90676/100000, error= 0.0009256280782222819epoch 92043/100000, error= 0.0008831580574501115epoch 92995/100000, error= 0.0008557513229391642epoch 93376/100000, error= 0.0008452405171993813epoch 94821/100000, error= 0.0008075590991729045epoch 95345/100000, error= 0.0007946896550606519epoch 96399/100000, error= 0.000769975314738187epoch 96737/100000, error= 0.0007623635449481208epoch 97572/100000, error= 0.0007441724930274746epoch 98071/100000, error= 0.0007336993040887425epoch 98613/100000, error= 0.0007226439689667605epoch 99081/100000, error= 0.0007133557309497677"
     ]
    }
   ],
   "source": [
    "nn2.fit(dataset)\n",
    "nn2.is_fitted = True #não mudava o is_fitted para True, foi forçado aqui"
   ]
  },
  {
   "cell_type": "code",
   "execution_count": 11,
   "id": "77ecee76",
   "metadata": {},
   "outputs": [
    {
     "data": {
      "text/plain": "array([[1.],\n       [0.],\n       [0.],\n       [1.]])"
     },
     "execution_count": 11,
     "metadata": {},
     "output_type": "execute_result"
    }
   ],
   "source": [
    "np.round(nn2.predict(X))"
   ]
  },
  {
   "cell_type": "code",
   "execution_count": 12,
   "id": "9c39308d",
   "metadata": {},
   "outputs": [
    {
     "data": {
      "text/plain": "<Figure size 432x288 with 1 Axes>",
      "image/png": "[encoded data removed]"
     },
     "metadata": {
      "needs_background": "light"
     },
     "output_type": "display_data"
    }
   ],
   "source": [
    "import matplotlib.pyplot as plt\n",
    "%matplotlib inline\n",
    "plt.plot(list(nn2.history.keys()), list(nn2.history.values()), '-', color='red')\n",
    "plt.title('Loss')\n",
    "plt.show()"
   ]
  },
  {
   "cell_type": "code",
   "execution_count": 13,
   "id": "e0839b61",
   "metadata": {},
   "outputs": [
    {
     "data": {
      "text/plain": "array([[1.],\n       [0.],\n       [0.],\n       [1.]])"
     },
     "execution_count": 13,
     "metadata": {},
     "output_type": "execute_result"
    }
   ],
   "source": [
    "np.round(nn2.predict(dataset.X))"
   ]
  },
  {
   "cell_type": "code",
   "execution_count": 14,
   "id": "9c4cc530",
   "metadata": {},
   "outputs": [
    {
     "data": {
      "text/plain": "0.0006957583651927209"
     },
     "execution_count": 14,
     "metadata": {},
     "output_type": "execute_result"
    }
   ],
   "source": [
    "nn2.cost(dataset.X,dataset.y)"
   ]
  },
  {
   "cell_type": "code",
   "execution_count": 14,
   "id": "1045d635",
   "metadata": {},
   "outputs": [],
   "source": []
  }
 ],
 "metadata": {
  "interpreter": {
   "hash": "84e5a2fd7e25c8bcf38508d69068628463a9d9ea1454c39f49bb2bfb5f0bb0bf"
  },
  "kernelspec": {
   "display_name": "Python 3",
   "language": "python",
   "name": "python3"
  },
  "language_info": {
   "codemirror_mode": {
    "name": "ipython",
    "version": 3
   },
   "file_extension": ".py",
   "mimetype": "text/x-python",
   "name": "python",
   "nbconvert_exporter": "python",
   "pygments_lexer": "ipython3",
   "version": "3.8.8"
  }
 },
 "nbformat": 4,
 "nbformat_minor": 5
}