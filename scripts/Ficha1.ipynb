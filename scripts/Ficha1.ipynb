{
 "cells": [
  {
   "cell_type": "markdown",
   "id": "b81c0500",
   "metadata": {},
   "source": [
    "# Sistemas Inteligentes para Bioinformática"
   ]
  },
  {
   "cell_type": "markdown",
   "id": "0332d971",
   "metadata": {},
   "source": [
    "Exemplos de validação de código. Deverá corrigir os imports e diretórios de acordo com a sua implementação."
   ]
  },
  {
   "cell_type": "code",
   "execution_count": 1,
   "id": "d7a5bba2",
   "metadata": {},
   "outputs": [],
   "source": [
    "import os\n",
    "from si.data.Dataset import Dataset\n",
    "from si.util.Util import summary"
   ]
  },
  {
   "cell_type": "code",
   "execution_count": 2,
   "id": "4df58c0c",
   "metadata": {},
   "outputs": [],
   "source": [
    "DIR = os.path.dirname(os.path.realpath('.'))\n",
    "filename = os.path.join(DIR, 'datasets\\\\breast-bin.data')"
   ]
  },
  {
   "cell_type": "markdown",
   "id": "410820e3",
   "metadata": {},
   "source": [
    "## Labeled dataset"
   ]
  },
  {
   "cell_type": "code",
   "execution_count": 3,
   "id": "bf1b9bb6",
   "metadata": {},
   "outputs": [],
   "source": [
    "dataset = Dataset.from_data(filename, labeled = True)"
   ]
  },
  {
   "cell_type": "code",
   "execution_count": 4,
   "id": "09fb7585",
   "metadata": {},
   "outputs": [
    {
     "data": {
      "text/plain": [
       "array([[8., 4., 4., 1., 2., 9., 3., 3., 1.],\n",
       "       [5., 1., 1., 3., 2., 1., 1., 1., 1.],\n",
       "       [2., 1., 1., 1., 3., 1., 2., 1., 1.],\n",
       "       [2., 1., 1., 1., 2., 1., 3., 1., 1.],\n",
       "       [9., 5., 8., 1., 2., 3., 2., 1., 5.]])"
      ]
     },
     "execution_count": 4,
     "metadata": {},
     "output_type": "execute_result"
    }
   ],
   "source": [
    "dataset.X[:5, :]"
   ]
  },
  {
   "cell_type": "code",
   "execution_count": 5,
   "id": "593bebab",
   "metadata": {},
   "outputs": [
    {
     "data": {
      "text/plain": [
       "array([1., 0., 0., 0., 1.])"
      ]
     },
     "execution_count": 5,
     "metadata": {},
     "output_type": "execute_result"
    }
   ],
   "source": [
    "dataset.y[:5]"
   ]
  },
  {
   "cell_type": "code",
   "execution_count": 6,
   "id": "b3420783",
   "metadata": {},
   "outputs": [
    {
     "name": "stdout",
     "output_type": "stream",
     "text": [
      "Has label: True\n",
      "Number of features: 9\n",
      "Number of classes: 2\n"
     ]
    },
    {
     "data": {
      "text/html": [
       "<div>\n",
       "<style scoped>\n",
       "    .dataframe tbody tr th:only-of-type {\n",
       "        vertical-align: middle;\n",
       "    }\n",
       "\n",
       "    .dataframe tbody tr th {\n",
       "        vertical-align: top;\n",
       "    }\n",
       "\n",
       "    .dataframe thead th {\n",
       "        text-align: right;\n",
       "    }\n",
       "</style>\n",
       "<table border=\"1\" class=\"dataframe\">\n",
       "  <thead>\n",
       "    <tr style=\"text-align: right;\">\n",
       "      <th></th>\n",
       "      <th>A</th>\n",
       "      <th>B</th>\n",
       "      <th>C</th>\n",
       "      <th>D</th>\n",
       "      <th>E</th>\n",
       "      <th>F</th>\n",
       "      <th>G</th>\n",
       "      <th>H</th>\n",
       "      <th>I</th>\n",
       "      <th>y</th>\n",
       "    </tr>\n",
       "  </thead>\n",
       "  <tbody>\n",
       "    <tr>\n",
       "      <th>mean</th>\n",
       "      <td>4.417740</td>\n",
       "      <td>3.134478</td>\n",
       "      <td>3.207439</td>\n",
       "      <td>2.806867</td>\n",
       "      <td>3.216023</td>\n",
       "      <td>3.486409</td>\n",
       "      <td>3.437768</td>\n",
       "      <td>2.866953</td>\n",
       "      <td>1.589413</td>\n",
       "      <td>0.344778</td>\n",
       "    </tr>\n",
       "    <tr>\n",
       "      <th>var</th>\n",
       "      <td>7.917053</td>\n",
       "      <td>9.298082</td>\n",
       "      <td>8.819630</td>\n",
       "      <td>8.141527</td>\n",
       "      <td>4.896110</td>\n",
       "      <td>13.099601</td>\n",
       "      <td>5.937114</td>\n",
       "      <td>9.311340</td>\n",
       "      <td>2.937284</td>\n",
       "      <td>0.225906</td>\n",
       "    </tr>\n",
       "    <tr>\n",
       "      <th>max</th>\n",
       "      <td>10.000000</td>\n",
       "      <td>10.000000</td>\n",
       "      <td>10.000000</td>\n",
       "      <td>10.000000</td>\n",
       "      <td>10.000000</td>\n",
       "      <td>10.000000</td>\n",
       "      <td>10.000000</td>\n",
       "      <td>10.000000</td>\n",
       "      <td>10.000000</td>\n",
       "      <td>1.000000</td>\n",
       "    </tr>\n",
       "    <tr>\n",
       "      <th>min</th>\n",
       "      <td>1.000000</td>\n",
       "      <td>1.000000</td>\n",
       "      <td>1.000000</td>\n",
       "      <td>1.000000</td>\n",
       "      <td>1.000000</td>\n",
       "      <td>1.000000</td>\n",
       "      <td>1.000000</td>\n",
       "      <td>1.000000</td>\n",
       "      <td>1.000000</td>\n",
       "      <td>0.000000</td>\n",
       "    </tr>\n",
       "  </tbody>\n",
       "</table>\n",
       "</div>"
      ],
      "text/plain": [
       "              A          B          C          D          E          F  \\\n",
       "mean   4.417740   3.134478   3.207439   2.806867   3.216023   3.486409   \n",
       "var    7.917053   9.298082   8.819630   8.141527   4.896110  13.099601   \n",
       "max   10.000000  10.000000  10.000000  10.000000  10.000000  10.000000   \n",
       "min    1.000000   1.000000   1.000000   1.000000   1.000000   1.000000   \n",
       "\n",
       "              G          H          I         y  \n",
       "mean   3.437768   2.866953   1.589413  0.344778  \n",
       "var    5.937114   9.311340   2.937284  0.225906  \n",
       "max   10.000000  10.000000  10.000000  1.000000  \n",
       "min    1.000000   1.000000   1.000000  0.000000  "
      ]
     },
     "execution_count": 6,
     "metadata": {},
     "output_type": "execute_result"
    }
   ],
   "source": [
    "print(\"Has label:\", dataset.hasLabel())\n",
    "print(\"Number of features:\", dataset.getNumFeatures())\n",
    "print(\"Number of classes:\", dataset.getNumClasses())\n",
    "summary(dataset)"
   ]
  },
  {
   "cell_type": "code",
   "execution_count": 7,
   "id": "a3035f51",
   "metadata": {},
   "outputs": [
    {
     "data": {
      "text/html": [
       "<div>\n",
       "<style scoped>\n",
       "    .dataframe tbody tr th:only-of-type {\n",
       "        vertical-align: middle;\n",
       "    }\n",
       "\n",
       "    .dataframe tbody tr th {\n",
       "        vertical-align: top;\n",
       "    }\n",
       "\n",
       "    .dataframe thead th {\n",
       "        text-align: right;\n",
       "    }\n",
       "</style>\n",
       "<table border=\"1\" class=\"dataframe\">\n",
       "  <thead>\n",
       "    <tr style=\"text-align: right;\">\n",
       "      <th></th>\n",
       "      <th>A</th>\n",
       "      <th>B</th>\n",
       "      <th>C</th>\n",
       "      <th>D</th>\n",
       "      <th>E</th>\n",
       "      <th>F</th>\n",
       "      <th>G</th>\n",
       "      <th>H</th>\n",
       "      <th>I</th>\n",
       "      <th>y</th>\n",
       "    </tr>\n",
       "  </thead>\n",
       "  <tbody>\n",
       "    <tr>\n",
       "      <th>0</th>\n",
       "      <td>8.0</td>\n",
       "      <td>4.0</td>\n",
       "      <td>4.0</td>\n",
       "      <td>1.0</td>\n",
       "      <td>2.0</td>\n",
       "      <td>9.0</td>\n",
       "      <td>3.0</td>\n",
       "      <td>3.0</td>\n",
       "      <td>1.0</td>\n",
       "      <td>1.0</td>\n",
       "    </tr>\n",
       "    <tr>\n",
       "      <th>1</th>\n",
       "      <td>5.0</td>\n",
       "      <td>1.0</td>\n",
       "      <td>1.0</td>\n",
       "      <td>3.0</td>\n",
       "      <td>2.0</td>\n",
       "      <td>1.0</td>\n",
       "      <td>1.0</td>\n",
       "      <td>1.0</td>\n",
       "      <td>1.0</td>\n",
       "      <td>0.0</td>\n",
       "    </tr>\n",
       "    <tr>\n",
       "      <th>2</th>\n",
       "      <td>2.0</td>\n",
       "      <td>1.0</td>\n",
       "      <td>1.0</td>\n",
       "      <td>1.0</td>\n",
       "      <td>3.0</td>\n",
       "      <td>1.0</td>\n",
       "      <td>2.0</td>\n",
       "      <td>1.0</td>\n",
       "      <td>1.0</td>\n",
       "      <td>0.0</td>\n",
       "    </tr>\n",
       "    <tr>\n",
       "      <th>3</th>\n",
       "      <td>2.0</td>\n",
       "      <td>1.0</td>\n",
       "      <td>1.0</td>\n",
       "      <td>1.0</td>\n",
       "      <td>2.0</td>\n",
       "      <td>1.0</td>\n",
       "      <td>3.0</td>\n",
       "      <td>1.0</td>\n",
       "      <td>1.0</td>\n",
       "      <td>0.0</td>\n",
       "    </tr>\n",
       "    <tr>\n",
       "      <th>4</th>\n",
       "      <td>9.0</td>\n",
       "      <td>5.0</td>\n",
       "      <td>8.0</td>\n",
       "      <td>1.0</td>\n",
       "      <td>2.0</td>\n",
       "      <td>3.0</td>\n",
       "      <td>2.0</td>\n",
       "      <td>1.0</td>\n",
       "      <td>5.0</td>\n",
       "      <td>1.0</td>\n",
       "    </tr>\n",
       "    <tr>\n",
       "      <th>...</th>\n",
       "      <td>...</td>\n",
       "      <td>...</td>\n",
       "      <td>...</td>\n",
       "      <td>...</td>\n",
       "      <td>...</td>\n",
       "      <td>...</td>\n",
       "      <td>...</td>\n",
       "      <td>...</td>\n",
       "      <td>...</td>\n",
       "      <td>...</td>\n",
       "    </tr>\n",
       "    <tr>\n",
       "      <th>694</th>\n",
       "      <td>1.0</td>\n",
       "      <td>1.0</td>\n",
       "      <td>1.0</td>\n",
       "      <td>1.0</td>\n",
       "      <td>4.0</td>\n",
       "      <td>3.0</td>\n",
       "      <td>1.0</td>\n",
       "      <td>1.0</td>\n",
       "      <td>1.0</td>\n",
       "      <td>0.0</td>\n",
       "    </tr>\n",
       "    <tr>\n",
       "      <th>695</th>\n",
       "      <td>5.0</td>\n",
       "      <td>3.0</td>\n",
       "      <td>1.0</td>\n",
       "      <td>2.0</td>\n",
       "      <td>2.0</td>\n",
       "      <td>1.0</td>\n",
       "      <td>2.0</td>\n",
       "      <td>1.0</td>\n",
       "      <td>1.0</td>\n",
       "      <td>0.0</td>\n",
       "    </tr>\n",
       "    <tr>\n",
       "      <th>696</th>\n",
       "      <td>5.0</td>\n",
       "      <td>2.0</td>\n",
       "      <td>2.0</td>\n",
       "      <td>2.0</td>\n",
       "      <td>2.0</td>\n",
       "      <td>1.0</td>\n",
       "      <td>1.0</td>\n",
       "      <td>1.0</td>\n",
       "      <td>2.0</td>\n",
       "      <td>0.0</td>\n",
       "    </tr>\n",
       "    <tr>\n",
       "      <th>697</th>\n",
       "      <td>2.0</td>\n",
       "      <td>3.0</td>\n",
       "      <td>2.0</td>\n",
       "      <td>2.0</td>\n",
       "      <td>2.0</td>\n",
       "      <td>2.0</td>\n",
       "      <td>3.0</td>\n",
       "      <td>1.0</td>\n",
       "      <td>1.0</td>\n",
       "      <td>0.0</td>\n",
       "    </tr>\n",
       "    <tr>\n",
       "      <th>698</th>\n",
       "      <td>7.0</td>\n",
       "      <td>6.0</td>\n",
       "      <td>6.0</td>\n",
       "      <td>3.0</td>\n",
       "      <td>2.0</td>\n",
       "      <td>10.0</td>\n",
       "      <td>7.0</td>\n",
       "      <td>1.0</td>\n",
       "      <td>1.0</td>\n",
       "      <td>1.0</td>\n",
       "    </tr>\n",
       "  </tbody>\n",
       "</table>\n",
       "<p>699 rows × 10 columns</p>\n",
       "</div>"
      ],
      "text/plain": [
       "       A    B    C    D    E     F    G    H    I    y\n",
       "0    8.0  4.0  4.0  1.0  2.0   9.0  3.0  3.0  1.0  1.0\n",
       "1    5.0  1.0  1.0  3.0  2.0   1.0  1.0  1.0  1.0  0.0\n",
       "2    2.0  1.0  1.0  1.0  3.0   1.0  2.0  1.0  1.0  0.0\n",
       "3    2.0  1.0  1.0  1.0  2.0   1.0  3.0  1.0  1.0  0.0\n",
       "4    9.0  5.0  8.0  1.0  2.0   3.0  2.0  1.0  5.0  1.0\n",
       "..   ...  ...  ...  ...  ...   ...  ...  ...  ...  ...\n",
       "694  1.0  1.0  1.0  1.0  4.0   3.0  1.0  1.0  1.0  0.0\n",
       "695  5.0  3.0  1.0  2.0  2.0   1.0  2.0  1.0  1.0  0.0\n",
       "696  5.0  2.0  2.0  2.0  2.0   1.0  1.0  1.0  2.0  0.0\n",
       "697  2.0  3.0  2.0  2.0  2.0   2.0  3.0  1.0  1.0  0.0\n",
       "698  7.0  6.0  6.0  3.0  2.0  10.0  7.0  1.0  1.0  1.0\n",
       "\n",
       "[699 rows x 10 columns]"
      ]
     },
     "execution_count": 7,
     "metadata": {},
     "output_type": "execute_result"
    }
   ],
   "source": [
    "dataset.toDataFrame()"
   ]
  },
  {
   "cell_type": "markdown",
   "id": "687d166e",
   "metadata": {},
   "source": [
    "## Standard Scaler"
   ]
  },
  {
   "cell_type": "code",
   "execution_count": 8,
   "id": "8cbef39a",
   "metadata": {},
   "outputs": [],
   "source": [
    "from si.util.Scale import StandardScaler"
   ]
  },
  {
   "cell_type": "code",
   "execution_count": 9,
   "id": "57b53dc3",
   "metadata": {},
   "outputs": [
    {
     "data": {
      "text/html": [
       "<div>\n",
       "<style scoped>\n",
       "    .dataframe tbody tr th:only-of-type {\n",
       "        vertical-align: middle;\n",
       "    }\n",
       "\n",
       "    .dataframe tbody tr th {\n",
       "        vertical-align: top;\n",
       "    }\n",
       "\n",
       "    .dataframe thead th {\n",
       "        text-align: right;\n",
       "    }\n",
       "</style>\n",
       "<table border=\"1\" class=\"dataframe\">\n",
       "  <thead>\n",
       "    <tr style=\"text-align: right;\">\n",
       "      <th></th>\n",
       "      <th>A</th>\n",
       "      <th>B</th>\n",
       "      <th>C</th>\n",
       "      <th>D</th>\n",
       "      <th>E</th>\n",
       "      <th>F</th>\n",
       "      <th>G</th>\n",
       "      <th>H</th>\n",
       "      <th>I</th>\n",
       "      <th>y</th>\n",
       "    </tr>\n",
       "  </thead>\n",
       "  <tbody>\n",
       "    <tr>\n",
       "      <th>mean</th>\n",
       "      <td>-5.034917e-17</td>\n",
       "      <td>2.361805e-16</td>\n",
       "      <td>1.224581e-16</td>\n",
       "      <td>2.816059e-16</td>\n",
       "      <td>2.681054e-16</td>\n",
       "      <td>-6.480272e-16</td>\n",
       "      <td>4.034287e-17</td>\n",
       "      <td>-2.642934e-16</td>\n",
       "      <td>-7.290306e-17</td>\n",
       "      <td>0.344778</td>\n",
       "    </tr>\n",
       "    <tr>\n",
       "      <th>var</th>\n",
       "      <td>1.000000e+00</td>\n",
       "      <td>1.000000e+00</td>\n",
       "      <td>1.000000e+00</td>\n",
       "      <td>1.000000e+00</td>\n",
       "      <td>1.000000e+00</td>\n",
       "      <td>1.000000e+00</td>\n",
       "      <td>1.000000e+00</td>\n",
       "      <td>1.000000e+00</td>\n",
       "      <td>1.000000e+00</td>\n",
       "      <td>0.225906</td>\n",
       "    </tr>\n",
       "    <tr>\n",
       "      <th>max</th>\n",
       "      <td>1.983939e+00</td>\n",
       "      <td>2.251526e+00</td>\n",
       "      <td>2.287222e+00</td>\n",
       "      <td>2.520955e+00</td>\n",
       "      <td>3.065906e+00</td>\n",
       "      <td>1.799664e+00</td>\n",
       "      <td>2.693171e+00</td>\n",
       "      <td>2.337594e+00</td>\n",
       "      <td>4.907421e+00</td>\n",
       "      <td>1.000000</td>\n",
       "    </tr>\n",
       "    <tr>\n",
       "      <th>min</th>\n",
       "      <td>-1.214667e+00</td>\n",
       "      <td>-6.999951e-01</td>\n",
       "      <td>-7.432990e-01</td>\n",
       "      <td>-6.332472e-01</td>\n",
       "      <td>-1.001495e+00</td>\n",
       "      <td>-6.869792e-01</td>\n",
       "      <td>-1.000471e+00</td>\n",
       "      <td>-6.118250e-01</td>\n",
       "      <td>-3.439118e-01</td>\n",
       "      <td>0.000000</td>\n",
       "    </tr>\n",
       "  </tbody>\n",
       "</table>\n",
       "</div>"
      ],
      "text/plain": [
       "                 A             B             C             D             E  \\\n",
       "mean -5.034917e-17  2.361805e-16  1.224581e-16  2.816059e-16  2.681054e-16   \n",
       "var   1.000000e+00  1.000000e+00  1.000000e+00  1.000000e+00  1.000000e+00   \n",
       "max   1.983939e+00  2.251526e+00  2.287222e+00  2.520955e+00  3.065906e+00   \n",
       "min  -1.214667e+00 -6.999951e-01 -7.432990e-01 -6.332472e-01 -1.001495e+00   \n",
       "\n",
       "                 F             G             H             I         y  \n",
       "mean -6.480272e-16  4.034287e-17 -2.642934e-16 -7.290306e-17  0.344778  \n",
       "var   1.000000e+00  1.000000e+00  1.000000e+00  1.000000e+00  0.225906  \n",
       "max   1.799664e+00  2.693171e+00  2.337594e+00  4.907421e+00  1.000000  \n",
       "min  -6.869792e-01 -1.000471e+00 -6.118250e-01 -3.439118e-01  0.000000  "
      ]
     },
     "execution_count": 9,
     "metadata": {},
     "output_type": "execute_result"
    }
   ],
   "source": [
    "sc = StandardScaler()\n",
    "ds2 = sc.fit_transform(dataset)\n",
    "summary(ds2)"
   ]
  },
  {
   "cell_type": "markdown",
   "id": "b181d714",
   "metadata": {},
   "source": [
    "# Feature Selection"
   ]
  },
  {
   "cell_type": "code",
   "execution_count": 10,
   "id": "3f0c165a",
   "metadata": {},
   "outputs": [],
   "source": [
    "from si.data.Feature_selection import f_regression, SelectKBest, VarianceThreshold"
   ]
  },
  {
   "cell_type": "markdown",
   "id": "6e9c9353",
   "metadata": {},
   "source": [
    "## Variance Threshold"
   ]
  },
  {
   "cell_type": "code",
   "execution_count": 11,
   "id": "077b82dd",
   "metadata": {},
   "outputs": [
    {
     "data": {
      "text/html": [
       "<div>\n",
       "<style scoped>\n",
       "    .dataframe tbody tr th:only-of-type {\n",
       "        vertical-align: middle;\n",
       "    }\n",
       "\n",
       "    .dataframe tbody tr th {\n",
       "        vertical-align: top;\n",
       "    }\n",
       "\n",
       "    .dataframe thead th {\n",
       "        text-align: right;\n",
       "    }\n",
       "</style>\n",
       "<table border=\"1\" class=\"dataframe\">\n",
       "  <thead>\n",
       "    <tr style=\"text-align: right;\">\n",
       "      <th></th>\n",
       "      <th>B</th>\n",
       "      <th>C</th>\n",
       "      <th>D</th>\n",
       "      <th>F</th>\n",
       "      <th>H</th>\n",
       "      <th>y</th>\n",
       "    </tr>\n",
       "  </thead>\n",
       "  <tbody>\n",
       "    <tr>\n",
       "      <th>mean</th>\n",
       "      <td>3.134478</td>\n",
       "      <td>3.207439</td>\n",
       "      <td>2.806867</td>\n",
       "      <td>3.486409</td>\n",
       "      <td>2.866953</td>\n",
       "      <td>0.344778</td>\n",
       "    </tr>\n",
       "    <tr>\n",
       "      <th>var</th>\n",
       "      <td>9.298082</td>\n",
       "      <td>8.819630</td>\n",
       "      <td>8.141527</td>\n",
       "      <td>13.099601</td>\n",
       "      <td>9.311340</td>\n",
       "      <td>0.225906</td>\n",
       "    </tr>\n",
       "    <tr>\n",
       "      <th>max</th>\n",
       "      <td>10.000000</td>\n",
       "      <td>10.000000</td>\n",
       "      <td>10.000000</td>\n",
       "      <td>10.000000</td>\n",
       "      <td>10.000000</td>\n",
       "      <td>1.000000</td>\n",
       "    </tr>\n",
       "    <tr>\n",
       "      <th>min</th>\n",
       "      <td>1.000000</td>\n",
       "      <td>1.000000</td>\n",
       "      <td>1.000000</td>\n",
       "      <td>1.000000</td>\n",
       "      <td>1.000000</td>\n",
       "      <td>0.000000</td>\n",
       "    </tr>\n",
       "  </tbody>\n",
       "</table>\n",
       "</div>"
      ],
      "text/plain": [
       "              B          C          D          F          H         y\n",
       "mean   3.134478   3.207439   2.806867   3.486409   2.866953  0.344778\n",
       "var    9.298082   8.819630   8.141527  13.099601   9.311340  0.225906\n",
       "max   10.000000  10.000000  10.000000  10.000000  10.000000  1.000000\n",
       "min    1.000000   1.000000   1.000000   1.000000   1.000000  0.000000"
      ]
     },
     "execution_count": 11,
     "metadata": {},
     "output_type": "execute_result"
    }
   ],
   "source": [
    "vt = VarianceThreshold(8)\n",
    "ds2 = vt.fit_transform(dataset)\n",
    "summary(ds2)"
   ]
  },
  {
   "cell_type": "markdown",
   "id": "af2a1979",
   "metadata": {},
   "source": [
    "## SelectKBest"
   ]
  },
  {
   "cell_type": "code",
   "execution_count": 12,
   "id": "3d5a323c",
   "metadata": {},
   "outputs": [
    {
     "data": {
      "text/html": [
       "<div>\n",
       "<style scoped>\n",
       "    .dataframe tbody tr th:only-of-type {\n",
       "        vertical-align: middle;\n",
       "    }\n",
       "\n",
       "    .dataframe tbody tr th {\n",
       "        vertical-align: top;\n",
       "    }\n",
       "\n",
       "    .dataframe thead th {\n",
       "        text-align: right;\n",
       "    }\n",
       "</style>\n",
       "<table border=\"1\" class=\"dataframe\">\n",
       "  <thead>\n",
       "    <tr style=\"text-align: right;\">\n",
       "      <th></th>\n",
       "      <th>A</th>\n",
       "      <th>G</th>\n",
       "      <th>B</th>\n",
       "      <th>C</th>\n",
       "      <th>F</th>\n",
       "      <th>y</th>\n",
       "    </tr>\n",
       "  </thead>\n",
       "  <tbody>\n",
       "    <tr>\n",
       "      <th>mean</th>\n",
       "      <td>4.417740</td>\n",
       "      <td>3.437768</td>\n",
       "      <td>3.134478</td>\n",
       "      <td>3.207439</td>\n",
       "      <td>3.486409</td>\n",
       "      <td>0.344778</td>\n",
       "    </tr>\n",
       "    <tr>\n",
       "      <th>var</th>\n",
       "      <td>7.917053</td>\n",
       "      <td>5.937114</td>\n",
       "      <td>9.298082</td>\n",
       "      <td>8.819630</td>\n",
       "      <td>13.099601</td>\n",
       "      <td>0.225906</td>\n",
       "    </tr>\n",
       "    <tr>\n",
       "      <th>max</th>\n",
       "      <td>10.000000</td>\n",
       "      <td>10.000000</td>\n",
       "      <td>10.000000</td>\n",
       "      <td>10.000000</td>\n",
       "      <td>10.000000</td>\n",
       "      <td>1.000000</td>\n",
       "    </tr>\n",
       "    <tr>\n",
       "      <th>min</th>\n",
       "      <td>1.000000</td>\n",
       "      <td>1.000000</td>\n",
       "      <td>1.000000</td>\n",
       "      <td>1.000000</td>\n",
       "      <td>1.000000</td>\n",
       "      <td>0.000000</td>\n",
       "    </tr>\n",
       "  </tbody>\n",
       "</table>\n",
       "</div>"
      ],
      "text/plain": [
       "              A          G          B          C          F         y\n",
       "mean   4.417740   3.437768   3.134478   3.207439   3.486409  0.344778\n",
       "var    7.917053   5.937114   9.298082   8.819630  13.099601  0.225906\n",
       "max   10.000000  10.000000  10.000000  10.000000  10.000000  1.000000\n",
       "min    1.000000   1.000000   1.000000   1.000000   1.000000  0.000000"
      ]
     },
     "execution_count": 12,
     "metadata": {},
     "output_type": "execute_result"
    }
   ],
   "source": [
    "# SelectKBest for classification\n",
    "skb = SelectKBest(5)\n",
    "ds3 = skb.fit_transform(dataset)\n",
    "summary(ds3)\n"
   ]
  },
  {
   "cell_type": "markdown",
   "id": "d32dff4c",
   "metadata": {},
   "source": [
    "# Clustering"
   ]
  },
  {
   "cell_type": "code",
   "execution_count": 13,
   "id": "1c263bdb",
   "metadata": {},
   "outputs": [],
   "source": [
    "from si.unsupervised.Kmeans import KMeans\n",
    "import pandas as pd\n",
    "import matplotlib.pyplot as plt"
   ]
  },
  {
   "cell_type": "code",
   "execution_count": 14,
   "id": "919dcf2c",
   "metadata": {
    "pycharm": {
     "name": "#%%\n"
    }
   },
   "outputs": [],
   "source": [
    "# o dataset iris nao estava inicialmente no github\n",
    "filename = os.path.join(DIR, 'datasets/iris.data')\n",
    "df = pd.read_csv(filename)\n",
    "iris = Dataset.from_dataframe(df, ylabel = \"class\")"
   ]
  },
  {
   "cell_type": "code",
   "execution_count": 15,
   "id": "a8538bcd",
   "metadata": {},
   "outputs": [
    {
     "data": {
      "image/png": "[encoded data removed]",
      "text/plain": [
       "<Figure size 432x288 with 1 Axes>"
      ]
     },
     "metadata": {
      "needs_background": "light"
     },
     "output_type": "display_data"
    }
   ],
   "source": [
    "# indice das features para o plot\n",
    "c1 = 0\n",
    "c2 = 1\n",
    "# plot\n",
    "plt.scatter(iris.X[:,c1], iris.X[:,c2])\n",
    "plt.xlabel(iris.xnames[c1])\n",
    "plt.ylabel(iris.xnames[c2])\n",
    "plt.show()"
   ]
  },
  {
   "cell_type": "code",
   "execution_count": 16,
   "id": "3a83563a",
   "metadata": {},
   "outputs": [],
   "source": [
    "kmeans = KMeans(3)\n",
    "cent, clust = kmeans.fit_transform(iris)"
   ]
  },
  {
   "cell_type": "code",
   "execution_count": 17,
   "id": "4a9cc736",
   "metadata": {},
   "outputs": [
    {
     "data": {
      "image/png": "[encoded data removed]",
      "text/plain": [
       "<Figure size 432x288 with 1 Axes>"
      ]
     },
     "metadata": {
      "needs_background": "light"
     },
     "output_type": "display_data"
    }
   ],
   "source": [
    "plt.scatter(iris.X[:,c1], iris.X[:,c2], c = clust)\n",
    "plt.scatter(cent[:,c1],cent[:,c2], s = 100, c = 'black', marker = 'x')\n",
    "plt.xlabel(iris.xnames[c1])\n",
    "plt.ylabel(iris.xnames[c2])\n",
    "plt.show()"
   ]
  },
  {
   "cell_type": "markdown",
   "id": "2d9f986e",
   "metadata": {},
   "source": [
    "# PCA"
   ]
  },
  {
   "cell_type": "code",
   "execution_count": 18,
   "id": "2bb872c5",
   "metadata": {},
   "outputs": [],
   "source": [
    "from si.unsupervised import PCA"
   ]
  },
  {
   "cell_type": "code",
   "execution_count": 19,
   "id": "36ccdbee",
   "metadata": {},
   "outputs": [],
   "source": [
    "pca = PCA(2, scale = True)"
   ]
  },
  {
   "cell_type": "code",
   "execution_count": 20,
   "id": "5973a1a1",
   "metadata": {},
   "outputs": [
    {
     "name": "stdout",
     "output_type": "stream",
     "text": [
      "[[-9.00681170e-01 -1.14301691e+00 -1.38535265e+00 -1.50652052e+00\n",
      "  -1.02184904e+00 -5.37177559e-01 -1.50652052e+00 -1.02184904e+00\n",
      "  -1.74885626e+00 -1.14301691e+00 -5.37177559e-01 -1.26418478e+00\n",
      "  -1.26418478e+00 -1.87002413e+00 -5.25060772e-02 -1.73673948e-01\n",
      "  -5.37177559e-01 -9.00681170e-01 -1.73673948e-01 -9.00681170e-01\n",
      "  -5.37177559e-01 -9.00681170e-01 -1.50652052e+00 -9.00681170e-01\n",
      "  -1.26418478e+00 -1.02184904e+00 -1.02184904e+00 -7.79513300e-01\n",
      "  -7.79513300e-01 -1.38535265e+00 -1.26418478e+00 -5.37177559e-01\n",
      "  -7.79513300e-01 -4.16009689e-01 -1.14301691e+00 -1.02184904e+00\n",
      "  -4.16009689e-01 -1.14301691e+00 -1.74885626e+00 -9.00681170e-01\n",
      "  -1.02184904e+00 -1.62768839e+00 -1.74885626e+00 -1.02184904e+00\n",
      "  -9.00681170e-01 -1.26418478e+00 -9.00681170e-01 -1.50652052e+00\n",
      "  -6.58345429e-01 -1.02184904e+00  1.40150837e+00  6.74501145e-01\n",
      "   1.28034050e+00 -4.16009689e-01  7.95669016e-01 -1.73673948e-01\n",
      "   5.53333275e-01 -1.14301691e+00  9.16836886e-01 -7.79513300e-01\n",
      "  -1.02184904e+00  6.86617933e-02  1.89829664e-01  3.10997534e-01\n",
      "  -2.94841818e-01  1.03800476e+00 -2.94841818e-01 -5.25060772e-02\n",
      "   4.32165405e-01 -2.94841818e-01  6.86617933e-02  3.10997534e-01\n",
      "   5.53333275e-01  3.10997534e-01  6.74501145e-01  9.16836886e-01\n",
      "   1.15917263e+00  1.03800476e+00  1.89829664e-01 -1.73673948e-01\n",
      "  -4.16009689e-01 -4.16009689e-01 -5.25060772e-02  1.89829664e-01\n",
      "  -5.37177559e-01  1.89829664e-01  1.03800476e+00  5.53333275e-01\n",
      "  -2.94841818e-01 -4.16009689e-01 -4.16009689e-01  3.10997534e-01\n",
      "  -5.25060772e-02 -1.02184904e+00 -2.94841818e-01 -1.73673948e-01\n",
      "  -1.73673948e-01  4.32165405e-01 -9.00681170e-01 -1.73673948e-01\n",
      "   5.53333275e-01 -5.25060772e-02  1.52267624e+00  5.53333275e-01\n",
      "   7.95669016e-01  2.12851559e+00 -1.14301691e+00  1.76501198e+00\n",
      "   1.03800476e+00  1.64384411e+00  7.95669016e-01  6.74501145e-01\n",
      "   1.15917263e+00 -1.73673948e-01 -5.25060772e-02  6.74501145e-01\n",
      "   7.95669016e-01  2.24968346e+00  2.24968346e+00  1.89829664e-01\n",
      "   1.28034050e+00 -2.94841818e-01  2.24968346e+00  5.53333275e-01\n",
      "   1.03800476e+00  1.64384411e+00  4.32165405e-01  3.10997534e-01\n",
      "   6.74501145e-01  1.64384411e+00  1.88617985e+00  2.49201920e+00\n",
      "   6.74501145e-01  5.53333275e-01  3.10997534e-01  2.24968346e+00\n",
      "   5.53333275e-01  6.74501145e-01  1.89829664e-01  1.28034050e+00\n",
      "   1.03800476e+00  1.28034050e+00 -5.25060772e-02  1.15917263e+00\n",
      "   1.03800476e+00  1.03800476e+00  5.53333275e-01  7.95669016e-01\n",
      "   4.32165405e-01  6.86617933e-02]\n",
      " [ 1.03205722e+00 -1.24957601e-01  3.37848329e-01  1.06445364e-01\n",
      "   1.26346019e+00  1.95766909e+00  8.00654259e-01  8.00654259e-01\n",
      "  -3.56360566e-01  1.06445364e-01  1.49486315e+00  8.00654259e-01\n",
      "  -1.24957601e-01 -1.24957601e-01  2.18907205e+00  3.11468391e+00\n",
      "   1.95766909e+00  1.03205722e+00  1.72626612e+00  1.72626612e+00\n",
      "   8.00654259e-01  1.49486315e+00  1.26346019e+00  5.69251294e-01\n",
      "   8.00654259e-01 -1.24957601e-01  8.00654259e-01  1.03205722e+00\n",
      "   8.00654259e-01  3.37848329e-01  1.06445364e-01  8.00654259e-01\n",
      "   2.42047502e+00  2.65187798e+00  1.06445364e-01  3.37848329e-01\n",
      "   1.03205722e+00  1.06445364e-01 -1.24957601e-01  8.00654259e-01\n",
      "   1.03205722e+00 -1.74477836e+00  3.37848329e-01  1.03205722e+00\n",
      "   1.72626612e+00 -1.24957601e-01  1.72626612e+00  3.37848329e-01\n",
      "   1.49486315e+00  5.69251294e-01  3.37848329e-01  3.37848329e-01\n",
      "   1.06445364e-01 -1.74477836e+00 -5.87763531e-01 -5.87763531e-01\n",
      "   5.69251294e-01 -1.51337539e+00 -3.56360566e-01 -8.19166497e-01\n",
      "  -2.43898725e+00 -1.24957601e-01 -1.97618132e+00 -3.56360566e-01\n",
      "  -3.56360566e-01  1.06445364e-01 -1.24957601e-01 -8.19166497e-01\n",
      "  -1.97618132e+00 -1.28197243e+00  3.37848329e-01 -5.87763531e-01\n",
      "  -1.28197243e+00 -5.87763531e-01 -3.56360566e-01 -1.24957601e-01\n",
      "  -5.87763531e-01 -1.24957601e-01 -3.56360566e-01 -1.05056946e+00\n",
      "  -1.51337539e+00 -1.51337539e+00 -8.19166497e-01 -8.19166497e-01\n",
      "  -1.24957601e-01  8.00654259e-01  1.06445364e-01 -1.74477836e+00\n",
      "  -1.24957601e-01 -1.28197243e+00 -1.05056946e+00 -1.24957601e-01\n",
      "  -1.05056946e+00 -1.74477836e+00 -8.19166497e-01 -1.24957601e-01\n",
      "  -3.56360566e-01 -3.56360566e-01 -1.28197243e+00 -5.87763531e-01\n",
      "   5.69251294e-01 -8.19166497e-01 -1.24957601e-01 -3.56360566e-01\n",
      "  -1.24957601e-01 -1.24957601e-01 -1.28197243e+00 -3.56360566e-01\n",
      "  -1.28197243e+00  1.26346019e+00  3.37848329e-01 -8.19166497e-01\n",
      "  -1.24957601e-01 -1.28197243e+00 -5.87763531e-01  3.37848329e-01\n",
      "  -1.24957601e-01  1.72626612e+00 -1.05056946e+00 -1.97618132e+00\n",
      "   3.37848329e-01 -5.87763531e-01 -5.87763531e-01 -8.19166497e-01\n",
      "   5.69251294e-01  3.37848329e-01 -5.87763531e-01 -1.24957601e-01\n",
      "  -5.87763531e-01 -1.24957601e-01 -5.87763531e-01  1.72626612e+00\n",
      "  -5.87763531e-01 -5.87763531e-01 -1.05056946e+00 -1.24957601e-01\n",
      "   8.00654259e-01  1.06445364e-01 -1.24957601e-01  1.06445364e-01\n",
      "   1.06445364e-01  1.06445364e-01 -8.19166497e-01  3.37848329e-01\n",
      "   5.69251294e-01 -1.24957601e-01 -1.28197243e+00 -1.24957601e-01\n",
      "   8.00654259e-01 -1.24957601e-01]\n",
      " [-1.34127240e+00 -1.34127240e+00 -1.39813811e+00 -1.28440670e+00\n",
      "  -1.34127240e+00 -1.17067529e+00 -1.34127240e+00 -1.28440670e+00\n",
      "  -1.34127240e+00 -1.28440670e+00 -1.28440670e+00 -1.22754100e+00\n",
      "  -1.34127240e+00 -1.51186952e+00 -1.45500381e+00 -1.28440670e+00\n",
      "  -1.39813811e+00 -1.34127240e+00 -1.17067529e+00 -1.28440670e+00\n",
      "  -1.17067529e+00 -1.28440670e+00 -1.56873522e+00 -1.17067529e+00\n",
      "  -1.05694388e+00 -1.22754100e+00 -1.22754100e+00 -1.28440670e+00\n",
      "  -1.34127240e+00 -1.22754100e+00 -1.22754100e+00 -1.28440670e+00\n",
      "  -1.28440670e+00 -1.34127240e+00 -1.28440670e+00 -1.45500381e+00\n",
      "  -1.39813811e+00 -1.28440670e+00 -1.39813811e+00 -1.28440670e+00\n",
      "  -1.39813811e+00 -1.39813811e+00 -1.39813811e+00 -1.22754100e+00\n",
      "  -1.05694388e+00 -1.34127240e+00 -1.22754100e+00 -1.34127240e+00\n",
      "  -1.28440670e+00 -1.34127240e+00  5.35295827e-01  4.21564419e-01\n",
      "   6.49027235e-01  1.37235899e-01  4.78430123e-01  4.21564419e-01\n",
      "   5.35295827e-01 -2.60824029e-01  4.78430123e-01  8.03701950e-02\n",
      "  -1.47092621e-01  2.50967307e-01  1.37235899e-01  5.35295827e-01\n",
      "  -9.02269170e-02  3.64698715e-01  4.21564419e-01  1.94101603e-01\n",
      "   4.21564419e-01  8.03701950e-02  5.92161531e-01  1.37235899e-01\n",
      "   6.49027235e-01  5.35295827e-01  3.07833011e-01  3.64698715e-01\n",
      "   5.92161531e-01  7.05892939e-01  4.21564419e-01 -1.47092621e-01\n",
      "   2.35044910e-02 -3.33612130e-02  8.03701950e-02  7.62758643e-01\n",
      "   4.21564419e-01  4.21564419e-01  5.35295827e-01  3.64698715e-01\n",
      "   1.94101603e-01  1.37235899e-01  3.64698715e-01  4.78430123e-01\n",
      "   1.37235899e-01 -2.60824029e-01  2.50967307e-01  2.50967307e-01\n",
      "   2.50967307e-01  3.07833011e-01 -4.31421141e-01  1.94101603e-01\n",
      "   1.27454998e+00  7.62758643e-01  1.21768427e+00  1.04708716e+00\n",
      "   1.16081857e+00  1.61574420e+00  4.21564419e-01  1.44514709e+00\n",
      "   1.16081857e+00  1.33141568e+00  7.62758643e-01  8.76490051e-01\n",
      "   9.90221459e-01  7.05892939e-01  7.62758643e-01  8.76490051e-01\n",
      "   9.90221459e-01  1.67260991e+00  1.78634131e+00  7.05892939e-01\n",
      "   1.10395287e+00  6.49027235e-01  1.67260991e+00  6.49027235e-01\n",
      "   1.10395287e+00  1.27454998e+00  5.92161531e-01  6.49027235e-01\n",
      "   1.04708716e+00  1.16081857e+00  1.33141568e+00  1.50201279e+00\n",
      "   1.04708716e+00  7.62758643e-01  1.04708716e+00  1.33141568e+00\n",
      "   1.04708716e+00  9.90221459e-01  5.92161531e-01  9.33355755e-01\n",
      "   1.04708716e+00  7.62758643e-01  7.62758643e-01  1.21768427e+00\n",
      "   1.10395287e+00  8.19624347e-01  7.05892939e-01  8.19624347e-01\n",
      "   9.33355755e-01  7.62758643e-01]\n",
      " [-1.31297673e+00 -1.31297673e+00 -1.31297673e+00 -1.31297673e+00\n",
      "  -1.31297673e+00 -1.05003079e+00 -1.18150376e+00 -1.31297673e+00\n",
      "  -1.31297673e+00 -1.44444970e+00 -1.31297673e+00 -1.31297673e+00\n",
      "  -1.44444970e+00 -1.44444970e+00 -1.31297673e+00 -1.05003079e+00\n",
      "  -1.05003079e+00 -1.18150376e+00 -1.18150376e+00 -1.18150376e+00\n",
      "  -1.31297673e+00 -1.05003079e+00 -1.31297673e+00 -9.18557817e-01\n",
      "  -1.31297673e+00 -1.31297673e+00 -1.05003079e+00 -1.31297673e+00\n",
      "  -1.31297673e+00 -1.31297673e+00 -1.31297673e+00 -1.05003079e+00\n",
      "  -1.44444970e+00 -1.31297673e+00 -1.44444970e+00 -1.31297673e+00\n",
      "  -1.31297673e+00 -1.44444970e+00 -1.31297673e+00 -1.31297673e+00\n",
      "  -1.18150376e+00 -1.18150376e+00 -1.31297673e+00 -7.87084847e-01\n",
      "  -1.05003079e+00 -1.18150376e+00 -1.31297673e+00 -1.31297673e+00\n",
      "  -1.31297673e+00 -1.31297673e+00  2.64698913e-01  3.96171883e-01\n",
      "   3.96171883e-01  1.33225943e-01  3.96171883e-01  1.33225943e-01\n",
      "   5.27644853e-01 -2.61192967e-01  1.33225943e-01  2.64698913e-01\n",
      "  -2.61192967e-01  3.96171883e-01 -2.61192967e-01  2.64698913e-01\n",
      "   1.33225943e-01  2.64698913e-01  3.96171883e-01 -2.61192967e-01\n",
      "   3.96171883e-01 -1.29719997e-01  7.90590793e-01  1.33225943e-01\n",
      "   3.96171883e-01  1.75297293e-03  1.33225943e-01  2.64698913e-01\n",
      "   2.64698913e-01  6.59117823e-01  3.96171883e-01 -2.61192967e-01\n",
      "  -1.29719997e-01 -2.61192967e-01  1.75297293e-03  5.27644853e-01\n",
      "   3.96171883e-01  5.27644853e-01  3.96171883e-01  1.33225943e-01\n",
      "   1.33225943e-01  1.33225943e-01  1.75297293e-03  2.64698913e-01\n",
      "   1.75297293e-03 -2.61192967e-01  1.33225943e-01  1.75297293e-03\n",
      "   1.33225943e-01  1.33225943e-01 -1.29719997e-01  1.33225943e-01\n",
      "   1.71090158e+00  9.22063763e-01  1.18500970e+00  7.90590793e-01\n",
      "   1.31648267e+00  1.18500970e+00  6.59117823e-01  7.90590793e-01\n",
      "   7.90590793e-01  1.71090158e+00  1.05353673e+00  9.22063763e-01\n",
      "   1.18500970e+00  1.05353673e+00  1.57942861e+00  1.44795564e+00\n",
      "   7.90590793e-01  1.31648267e+00  1.44795564e+00  3.96171883e-01\n",
      "   1.44795564e+00  1.05353673e+00  1.05353673e+00  7.90590793e-01\n",
      "   1.18500970e+00  7.90590793e-01  7.90590793e-01  7.90590793e-01\n",
      "   1.18500970e+00  5.27644853e-01  9.22063763e-01  1.05353673e+00\n",
      "   1.31648267e+00  3.96171883e-01  2.64698913e-01  1.44795564e+00\n",
      "   1.57942861e+00  7.90590793e-01  7.90590793e-01  1.18500970e+00\n",
      "   1.57942861e+00  1.44795564e+00  9.22063763e-01  1.44795564e+00\n",
      "   1.71090158e+00  1.44795564e+00  9.22063763e-01  1.05353673e+00\n",
      "   1.44795564e+00  7.90590793e-01]]\n",
      "[53.42728505 30.05643531 12.02085822  4.49542143]\n"
     ]
    }
   ],
   "source": [
    "reduced = pca.fit_transform(iris)\n",
    "print(pca.variance_explained())"
   ]
  },
  {
   "cell_type": "code",
   "execution_count": 21,
   "id": "165737a0",
   "metadata": {},
   "outputs": [
    {
     "data": {
      "text/html": [
       "<div>\n",
       "<style scoped>\n",
       "    .dataframe tbody tr th:only-of-type {\n",
       "        vertical-align: middle;\n",
       "    }\n",
       "\n",
       "    .dataframe tbody tr th {\n",
       "        vertical-align: top;\n",
       "    }\n",
       "\n",
       "    .dataframe thead th {\n",
       "        text-align: right;\n",
       "    }\n",
       "</style>\n",
       "<table border=\"1\" class=\"dataframe\">\n",
       "  <thead>\n",
       "    <tr style=\"text-align: right;\">\n",
       "      <th></th>\n",
       "      <th>pc1</th>\n",
       "      <th>pc2</th>\n",
       "      <th>class</th>\n",
       "    </tr>\n",
       "  </thead>\n",
       "  <tbody>\n",
       "    <tr>\n",
       "      <th>0</th>\n",
       "      <td>2.264542</td>\n",
       "      <td>-0.505704</td>\n",
       "      <td>Iris-setosa</td>\n",
       "    </tr>\n",
       "    <tr>\n",
       "      <th>1</th>\n",
       "      <td>2.086426</td>\n",
       "      <td>0.655405</td>\n",
       "      <td>Iris-setosa</td>\n",
       "    </tr>\n",
       "    <tr>\n",
       "      <th>2</th>\n",
       "      <td>2.36795</td>\n",
       "      <td>0.318477</td>\n",
       "      <td>Iris-setosa</td>\n",
       "    </tr>\n",
       "    <tr>\n",
       "      <th>3</th>\n",
       "      <td>2.304197</td>\n",
       "      <td>0.575368</td>\n",
       "      <td>Iris-setosa</td>\n",
       "    </tr>\n",
       "    <tr>\n",
       "      <th>4</th>\n",
       "      <td>2.388777</td>\n",
       "      <td>-0.674767</td>\n",
       "      <td>Iris-setosa</td>\n",
       "    </tr>\n",
       "    <tr>\n",
       "      <th>...</th>\n",
       "      <td>...</td>\n",
       "      <td>...</td>\n",
       "      <td>...</td>\n",
       "    </tr>\n",
       "    <tr>\n",
       "      <th>145</th>\n",
       "      <td>-1.870522</td>\n",
       "      <td>-0.382822</td>\n",
       "      <td>Iris-virginica</td>\n",
       "    </tr>\n",
       "    <tr>\n",
       "      <th>146</th>\n",
       "      <td>-1.558492</td>\n",
       "      <td>0.905314</td>\n",
       "      <td>Iris-virginica</td>\n",
       "    </tr>\n",
       "    <tr>\n",
       "      <th>147</th>\n",
       "      <td>-1.520845</td>\n",
       "      <td>-0.266795</td>\n",
       "      <td>Iris-virginica</td>\n",
       "    </tr>\n",
       "    <tr>\n",
       "      <th>148</th>\n",
       "      <td>-1.376391</td>\n",
       "      <td>-1.016362</td>\n",
       "      <td>Iris-virginica</td>\n",
       "    </tr>\n",
       "    <tr>\n",
       "      <th>149</th>\n",
       "      <td>-0.959299</td>\n",
       "      <td>0.022284</td>\n",
       "      <td>Iris-virginica</td>\n",
       "    </tr>\n",
       "  </tbody>\n",
       "</table>\n",
       "<p>150 rows × 3 columns</p>\n",
       "</div>"
      ],
      "text/plain": [
       "          pc1       pc2           class\n",
       "0    2.264542 -0.505704     Iris-setosa\n",
       "1    2.086426  0.655405     Iris-setosa\n",
       "2     2.36795  0.318477     Iris-setosa\n",
       "3    2.304197  0.575368     Iris-setosa\n",
       "4    2.388777 -0.674767     Iris-setosa\n",
       "..        ...       ...             ...\n",
       "145 -1.870522 -0.382822  Iris-virginica\n",
       "146 -1.558492  0.905314  Iris-virginica\n",
       "147 -1.520845 -0.266795  Iris-virginica\n",
       "148 -1.376391 -1.016362  Iris-virginica\n",
       "149 -0.959299  0.022284  Iris-virginica\n",
       "\n",
       "[150 rows x 3 columns]"
      ]
     },
     "execution_count": 21,
     "metadata": {},
     "output_type": "execute_result"
    }
   ],
   "source": [
    "iris_pca = Dataset(reduced[0], iris.y, xnames = ['pc1', 'pc2'], yname = 'class')\n",
    "iris_pca.toDataFrame()"
   ]
  },
  {
   "cell_type": "code",
   "execution_count": 22,
   "id": "7ca96668",
   "metadata": {},
   "outputs": [
    {
     "data": {
      "image/png": "[encoded data removed]",
      "text/plain": [
       "<Figure size 432x288 with 1 Axes>"
      ]
     },
     "metadata": {
      "needs_background": "light"
     },
     "output_type": "display_data"
    }
   ],
   "source": [
    "plt.scatter(iris_pca.X[:,0], iris_pca.X[:,1])\n",
    "plt.xlabel(\"PC1\")\n",
    "plt.ylabel(\"PC2\")\n",
    "plt.show()"
   ]
  },
  {
   "cell_type": "markdown",
   "id": "1ac91dff",
   "metadata": {},
   "source": [
    "# KNN"
   ]
  },
  {
   "cell_type": "code",
   "execution_count": 23,
   "id": "e72846a9",
   "metadata": {},
   "outputs": [],
   "source": [
    "from si.supervised.KNN import KNN\n",
    "# from src.si.util.util import train_test_split"
   ]
  },
  {
   "cell_type": "code",
   "execution_count": 24,
   "id": "313f8520",
   "metadata": {},
   "outputs": [],
   "source": [
    "knn = KNN(3)"
   ]
  },
  {
   "cell_type": "code",
   "execution_count": 25,
   "id": "3da86028",
   "metadata": {},
   "outputs": [],
   "source": [
    "knn.fit(iris)"
   ]
  },
  {
   "cell_type": "code",
   "execution_count": 26,
   "id": "0835bffe",
   "metadata": {},
   "outputs": [
    {
     "name": "stdout",
     "output_type": "stream",
     "text": [
      "Prediction: Iris-versicolor\n",
      "True: Iris-versicolor\n"
     ]
    }
   ],
   "source": [
    "# the index of a dataset entry\n",
    "id = 50\n",
    "\n",
    "# prediction\n",
    "x = iris.X[id, :]\n",
    "\n",
    "pred = knn.predict(x)\n",
    "\n",
    "print(f'Prediction: {pred}')\n",
    "print(f'True: {iris.y[id]}')"
   ]
  },
  {
   "cell_type": "code",
   "execution_count": 27,
   "id": "07f8ce25",
   "metadata": {},
   "outputs": [
    {
     "name": "stdout",
     "output_type": "stream",
     "text": [
      "0.96\n"
     ]
    }
   ],
   "source": [
    "print(knn.cost())"
   ]
  },
  {
   "cell_type": "code",
   "execution_count": 28,
   "id": "5d831af0",
   "metadata": {},
   "outputs": [],
   "source": [
    "from si.util import train_test_split"
   ]
  },
  {
   "cell_type": "code",
   "execution_count": 29,
   "id": "01f0be1d",
   "metadata": {},
   "outputs": [
    {
     "name": "stdout",
     "output_type": "stream",
     "text": [
      "(559, 9)\n",
      "(140, 9)\n"
     ]
    }
   ],
   "source": [
    "train, test = train_test_split(dataset)\n",
    "print(train.X.shape)\n",
    "print(test.X.shape)"
   ]
  },
  {
   "cell_type": "code",
   "execution_count": 30,
   "id": "f036be71",
   "metadata": {},
   "outputs": [
    {
     "data": {
      "text/html": [
       "<div>\n",
       "<style scoped>\n",
       "    .dataframe tbody tr th:only-of-type {\n",
       "        vertical-align: middle;\n",
       "    }\n",
       "\n",
       "    .dataframe tbody tr th {\n",
       "        vertical-align: top;\n",
       "    }\n",
       "\n",
       "    .dataframe thead th {\n",
       "        text-align: right;\n",
       "    }\n",
       "</style>\n",
       "<table border=\"1\" class=\"dataframe\">\n",
       "  <thead>\n",
       "    <tr style=\"text-align: right;\">\n",
       "      <th></th>\n",
       "      <th>A</th>\n",
       "      <th>B</th>\n",
       "      <th>C</th>\n",
       "      <th>D</th>\n",
       "      <th>E</th>\n",
       "      <th>F</th>\n",
       "      <th>G</th>\n",
       "      <th>H</th>\n",
       "      <th>I</th>\n",
       "      <th>y</th>\n",
       "    </tr>\n",
       "  </thead>\n",
       "  <tbody>\n",
       "    <tr>\n",
       "      <th>mean</th>\n",
       "      <td>4.429338</td>\n",
       "      <td>3.164580</td>\n",
       "      <td>3.216458</td>\n",
       "      <td>2.826476</td>\n",
       "      <td>3.221825</td>\n",
       "      <td>3.504472</td>\n",
       "      <td>3.486583</td>\n",
       "      <td>2.914132</td>\n",
       "      <td>1.531306</td>\n",
       "      <td>0.347048</td>\n",
       "    </tr>\n",
       "    <tr>\n",
       "      <th>var</th>\n",
       "      <td>7.804935</td>\n",
       "      <td>9.325329</td>\n",
       "      <td>8.781411</td>\n",
       "      <td>8.307993</td>\n",
       "      <td>4.777270</td>\n",
       "      <td>13.162323</td>\n",
       "      <td>5.970750</td>\n",
       "      <td>9.484577</td>\n",
       "      <td>2.445800</td>\n",
       "      <td>0.226606</td>\n",
       "    </tr>\n",
       "    <tr>\n",
       "      <th>max</th>\n",
       "      <td>10.000000</td>\n",
       "      <td>10.000000</td>\n",
       "      <td>10.000000</td>\n",
       "      <td>10.000000</td>\n",
       "      <td>10.000000</td>\n",
       "      <td>10.000000</td>\n",
       "      <td>10.000000</td>\n",
       "      <td>10.000000</td>\n",
       "      <td>10.000000</td>\n",
       "      <td>1.000000</td>\n",
       "    </tr>\n",
       "    <tr>\n",
       "      <th>min</th>\n",
       "      <td>1.000000</td>\n",
       "      <td>1.000000</td>\n",
       "      <td>1.000000</td>\n",
       "      <td>1.000000</td>\n",
       "      <td>1.000000</td>\n",
       "      <td>1.000000</td>\n",
       "      <td>1.000000</td>\n",
       "      <td>1.000000</td>\n",
       "      <td>1.000000</td>\n",
       "      <td>0.000000</td>\n",
       "    </tr>\n",
       "  </tbody>\n",
       "</table>\n",
       "</div>"
      ],
      "text/plain": [
       "              A          B          C          D          E          F  \\\n",
       "mean   4.429338   3.164580   3.216458   2.826476   3.221825   3.504472   \n",
       "var    7.804935   9.325329   8.781411   8.307993   4.777270  13.162323   \n",
       "max   10.000000  10.000000  10.000000  10.000000  10.000000  10.000000   \n",
       "min    1.000000   1.000000   1.000000   1.000000   1.000000   1.000000   \n",
       "\n",
       "              G          H          I         y  \n",
       "mean   3.486583   2.914132   1.531306  0.347048  \n",
       "var    5.970750   9.484577   2.445800  0.226606  \n",
       "max   10.000000  10.000000  10.000000  1.000000  \n",
       "min    1.000000   1.000000   1.000000  0.000000  "
      ]
     },
     "execution_count": 30,
     "metadata": {},
     "output_type": "execute_result"
    }
   ],
   "source": [
    "summary(train)"
   ]
  },
  {
   "cell_type": "code",
   "execution_count": 31,
   "id": "9eab4175",
   "metadata": {},
   "outputs": [
    {
     "data": {
      "text/html": [
       "<div>\n",
       "<style scoped>\n",
       "    .dataframe tbody tr th:only-of-type {\n",
       "        vertical-align: middle;\n",
       "    }\n",
       "\n",
       "    .dataframe tbody tr th {\n",
       "        vertical-align: top;\n",
       "    }\n",
       "\n",
       "    .dataframe thead th {\n",
       "        text-align: right;\n",
       "    }\n",
       "</style>\n",
       "<table border=\"1\" class=\"dataframe\">\n",
       "  <thead>\n",
       "    <tr style=\"text-align: right;\">\n",
       "      <th></th>\n",
       "      <th>A</th>\n",
       "      <th>B</th>\n",
       "      <th>C</th>\n",
       "      <th>D</th>\n",
       "      <th>E</th>\n",
       "      <th>F</th>\n",
       "      <th>G</th>\n",
       "      <th>H</th>\n",
       "      <th>I</th>\n",
       "      <th>y</th>\n",
       "    </tr>\n",
       "  </thead>\n",
       "  <tbody>\n",
       "    <tr>\n",
       "      <th>mean</th>\n",
       "      <td>4.371429</td>\n",
       "      <td>3.014286</td>\n",
       "      <td>3.171429</td>\n",
       "      <td>2.728571</td>\n",
       "      <td>3.192857</td>\n",
       "      <td>3.414286</td>\n",
       "      <td>3.242857</td>\n",
       "      <td>2.678571</td>\n",
       "      <td>1.821429</td>\n",
       "      <td>0.335714</td>\n",
       "    </tr>\n",
       "    <tr>\n",
       "      <th>var</th>\n",
       "      <td>8.362041</td>\n",
       "      <td>9.171224</td>\n",
       "      <td>8.970612</td>\n",
       "      <td>7.469184</td>\n",
       "      <td>5.369949</td>\n",
       "      <td>12.842653</td>\n",
       "      <td>5.755306</td>\n",
       "      <td>8.575255</td>\n",
       "      <td>4.832398</td>\n",
       "      <td>0.223010</td>\n",
       "    </tr>\n",
       "    <tr>\n",
       "      <th>max</th>\n",
       "      <td>10.000000</td>\n",
       "      <td>10.000000</td>\n",
       "      <td>10.000000</td>\n",
       "      <td>10.000000</td>\n",
       "      <td>10.000000</td>\n",
       "      <td>10.000000</td>\n",
       "      <td>10.000000</td>\n",
       "      <td>10.000000</td>\n",
       "      <td>10.000000</td>\n",
       "      <td>1.000000</td>\n",
       "    </tr>\n",
       "    <tr>\n",
       "      <th>min</th>\n",
       "      <td>1.000000</td>\n",
       "      <td>1.000000</td>\n",
       "      <td>1.000000</td>\n",
       "      <td>1.000000</td>\n",
       "      <td>1.000000</td>\n",
       "      <td>1.000000</td>\n",
       "      <td>1.000000</td>\n",
       "      <td>1.000000</td>\n",
       "      <td>1.000000</td>\n",
       "      <td>0.000000</td>\n",
       "    </tr>\n",
       "  </tbody>\n",
       "</table>\n",
       "</div>"
      ],
      "text/plain": [
       "              A          B          C          D          E          F  \\\n",
       "mean   4.371429   3.014286   3.171429   2.728571   3.192857   3.414286   \n",
       "var    8.362041   9.171224   8.970612   7.469184   5.369949  12.842653   \n",
       "max   10.000000  10.000000  10.000000  10.000000  10.000000  10.000000   \n",
       "min    1.000000   1.000000   1.000000   1.000000   1.000000   1.000000   \n",
       "\n",
       "              G          H          I         y  \n",
       "mean   3.242857   2.678571   1.821429  0.335714  \n",
       "var    5.755306   8.575255   4.832398  0.223010  \n",
       "max   10.000000  10.000000  10.000000  1.000000  \n",
       "min    1.000000   1.000000   1.000000  0.000000  "
      ]
     },
     "execution_count": 31,
     "metadata": {},
     "output_type": "execute_result"
    }
   ],
   "source": [
    "summary(test)"
   ]
  },
  {
   "cell_type": "code",
   "execution_count": 32,
   "id": "3494d95f",
   "metadata": {},
   "outputs": [
    {
     "data": {
      "text/plain": [
       "0.9767441860465116"
      ]
     },
     "execution_count": 32,
     "metadata": {},
     "output_type": "execute_result"
    }
   ],
   "source": [
    "knn = KNN(3)\n",
    "knn.fit(train)\n",
    "knn.cost()"
   ]
  }
 ],
 "metadata": {
  "kernelspec": {
   "display_name": "Python 3",
   "language": "python",
   "name": "python3"
  },
  "language_info": {
   "codemirror_mode": {
    "name": "ipython",
    "version": 3
   },
   "file_extension": ".py",
   "mimetype": "text/x-python",
   "name": "python",
   "nbconvert_exporter": "python",
   "pygments_lexer": "ipython3",
   "version": "3.8.8"
  }
 },
 "nbformat": 4,
 "nbformat_minor": 5
}
