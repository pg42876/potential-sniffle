{
 "cells": [
  {
   "cell_type": "markdown",
   "id": "f07b8dde",
   "metadata": {},
   "source": [
    "# Neural Networks"
   ]
  },
  {
   "cell_type": "markdown",
   "id": "423f292f",
   "metadata": {},
   "source": [
    "## XNOR"
   ]
  },
  {
   "cell_type": "code",
   "execution_count": null,
   "id": "61ad0e5d",
   "metadata": {},
   "outputs": [],
   "source": [
    "import numpy as np\n",
    "from si.data.Dataset import Dataset"
   ]
  },
  {
   "cell_type": "code",
   "execution_count": 1,
   "id": "698c23e4",
   "metadata": {},
   "outputs": [],
   "source": [
    "X = np.array([[0, 0], [0, 1], [1, 0], [1, 1]])\n",
    "y = np.array([[1], [0], [0], [1]])\n",
    "dataset = Dataset(X, y, ['X1', 'X2'], 'X1 XNOR X2')"
   ]
  },
  {
   "cell_type": "code",
   "execution_count": 2,
   "id": "5539ea95",
   "metadata": {},
   "outputs": [
    {
     "data": {
      "text/html": [
       "<div>\n",
       "<style scoped>\n",
       "    .dataframe tbody tr th:only-of-type {\n",
       "        vertical-align: middle;\n",
       "    }\n",
       "\n",
       "    .dataframe tbody tr th {\n",
       "        vertical-align: top;\n",
       "    }\n",
       "\n",
       "    .dataframe thead th {\n",
       "        text-align: right;\n",
       "    }\n",
       "</style>\n",
       "<table border=\"1\" class=\"dataframe\">\n",
       "  <thead>\n",
       "    <tr style=\"text-align: right;\">\n",
       "      <th></th>\n",
       "      <th>X1</th>\n",
       "      <th>X2</th>\n",
       "      <th>X1 XNOR X2</th>\n",
       "    </tr>\n",
       "  </thead>\n",
       "  <tbody>\n",
       "    <tr>\n",
       "      <th>0</th>\n",
       "      <td>0</td>\n",
       "      <td>0</td>\n",
       "      <td>1</td>\n",
       "    </tr>\n",
       "    <tr>\n",
       "      <th>1</th>\n",
       "      <td>0</td>\n",
       "      <td>1</td>\n",
       "      <td>0</td>\n",
       "    </tr>\n",
       "    <tr>\n",
       "      <th>2</th>\n",
       "      <td>1</td>\n",
       "      <td>0</td>\n",
       "      <td>0</td>\n",
       "    </tr>\n",
       "    <tr>\n",
       "      <th>3</th>\n",
       "      <td>1</td>\n",
       "      <td>1</td>\n",
       "      <td>1</td>\n",
       "    </tr>\n",
       "  </tbody>\n",
       "</table>\n",
       "</div>"
      ],
      "text/plain": [
       "   X1  X2  X1 XNOR X2\n",
       "0   0   0           1\n",
       "1   0   1           0\n",
       "2   1   0           0\n",
       "3   1   1           1"
      ]
     },
     "execution_count": 2,
     "metadata": {},
     "output_type": "execute_result"
    }
   ],
   "source": [
    "dataset.toDataFrame()"
   ]
  },
  {
   "cell_type": "code",
   "execution_count": 3,
   "id": "049da626",
   "metadata": {},
   "outputs": [],
   "source": [
    "from si.supervised.NeuralNetwork import NN, Dense, Activation\n",
    "from si.util.Metrics import cross_entropy, cross_entropy_prime\n",
    "from si.util.Activation import Sigmoid"
   ]
  },
  {
   "cell_type": "code",
   "execution_count": 4,
   "id": "34441798",
   "metadata": {},
   "outputs": [],
   "source": [
    "# layer1 weights\n",
    "w1 = np.array([[20, -20], [20, -20]])\n",
    "b1 = np.array([[-30, 10]])\n",
    "l1 = Dense(2, 2)\n",
    "l1.setWeights(w1, b1)"
   ]
  },
  {
   "cell_type": "code",
   "execution_count": 5,
   "id": "8149016a",
   "metadata": {},
   "outputs": [],
   "source": [
    "# layer2 weights\n",
    "w2 = np.array([[20], [20]])\n",
    "b2 = np.array([[-10]])\n",
    "l2 = Dense(2, 1)\n",
    "l2.setWeights(w2, b2)"
   ]
  },
  {
   "cell_type": "code",
   "execution_count": 7,
   "id": "3e69a316",
   "metadata": {},
   "outputs": [
    {
     "ename": "TypeError",
     "evalue": "sigmoide() missing 1 required positional argument: 'z'",
     "output_type": "error",
     "traceback": [
      "\u001b[1;31m---------------------------------------------------------------------------\u001b[0m",
      "\u001b[1;31mTypeError\u001b[0m                                 Traceback (most recent call last)",
      "\u001b[1;32m<ipython-input-7-e1669ef0f5bb>\u001b[0m in \u001b[0;36m<module>\u001b[1;34m\u001b[0m\n\u001b[0;32m      2\u001b[0m \u001b[0mnn\u001b[0m \u001b[1;33m=\u001b[0m \u001b[0mNN\u001b[0m\u001b[1;33m(\u001b[0m\u001b[1;33m)\u001b[0m\u001b[1;33m\u001b[0m\u001b[1;33m\u001b[0m\u001b[0m\n\u001b[0;32m      3\u001b[0m \u001b[0mnn\u001b[0m\u001b[1;33m.\u001b[0m\u001b[0madd\u001b[0m\u001b[1;33m(\u001b[0m\u001b[0ml1\u001b[0m\u001b[1;33m)\u001b[0m\u001b[1;33m\u001b[0m\u001b[1;33m\u001b[0m\u001b[0m\n\u001b[1;32m----> 4\u001b[1;33m \u001b[0mnn\u001b[0m\u001b[1;33m.\u001b[0m\u001b[0madd\u001b[0m\u001b[1;33m(\u001b[0m\u001b[0mActivation\u001b[0m\u001b[1;33m(\u001b[0m\u001b[0msigmoide\u001b[0m\u001b[1;33m(\u001b[0m\u001b[1;33m)\u001b[0m\u001b[1;33m)\u001b[0m\u001b[1;33m)\u001b[0m\u001b[1;33m\u001b[0m\u001b[1;33m\u001b[0m\u001b[0m\n\u001b[0m\u001b[0;32m      5\u001b[0m \u001b[0mnn\u001b[0m\u001b[1;33m.\u001b[0m\u001b[0madd\u001b[0m\u001b[1;33m(\u001b[0m\u001b[0ml2\u001b[0m\u001b[1;33m)\u001b[0m\u001b[1;33m\u001b[0m\u001b[1;33m\u001b[0m\u001b[0m\n\u001b[0;32m      6\u001b[0m \u001b[0mnn\u001b[0m\u001b[1;33m.\u001b[0m\u001b[0madd\u001b[0m\u001b[1;33m(\u001b[0m\u001b[0mActivation\u001b[0m\u001b[1;33m(\u001b[0m\u001b[0msigmoide\u001b[0m\u001b[1;33m(\u001b[0m\u001b[1;33m)\u001b[0m\u001b[1;33m)\u001b[0m\u001b[1;33m)\u001b[0m\u001b[1;33m\u001b[0m\u001b[1;33m\u001b[0m\u001b[0m\n",
      "\u001b[1;31mTypeError\u001b[0m: sigmoide() missing 1 required positional argument: 'z'"
     ]
    }
   ],
   "source": [
    "# Build the NN\n",
    "nn = NN()\n",
    "nn.add(l1)\n",
    "nn.add(Activation(Sigmoid()))\n",
    "nn.add(l2)\n",
    "nn.add(Activation(Sigmoid()))\n",
    "# pass the info that the model is fitted\n",
    "nn.is_fitted = True"
   ]
  },
  {
   "cell_type": "code",
   "execution_count": 8,
   "id": "b8f8ed58",
   "metadata": {},
   "outputs": [
    {
     "ename": "AssertionError",
     "evalue": "Model must be fit befora predicting",
     "output_type": "error",
     "traceback": [
      "\u001b[1;31m---------------------------------------------------------------------------\u001b[0m",
      "\u001b[1;31mAssertionError\u001b[0m                            Traceback (most recent call last)",
      "\u001b[1;32m<ipython-input-8-dabe79781591>\u001b[0m in \u001b[0;36m<module>\u001b[1;34m\u001b[0m\n\u001b[1;32m----> 1\u001b[1;33m \u001b[0mnp\u001b[0m\u001b[1;33m.\u001b[0m\u001b[0mround\u001b[0m\u001b[1;33m(\u001b[0m\u001b[0mnn\u001b[0m\u001b[1;33m.\u001b[0m\u001b[0mpredict\u001b[0m\u001b[1;33m(\u001b[0m\u001b[0mdataset\u001b[0m\u001b[1;33m.\u001b[0m\u001b[0mX\u001b[0m\u001b[1;33m)\u001b[0m\u001b[1;33m)\u001b[0m\u001b[1;33m\u001b[0m\u001b[1;33m\u001b[0m\u001b[0m\n\u001b[0m",
      "\u001b[1;32mc:\\users\\maria\\documents\\github\\potential-sniffle\\src\\si\\supervised\\NeuralNetwork.py\u001b[0m in \u001b[0;36mpredict\u001b[1;34m(self, input)\u001b[0m\n\u001b[0;32m    150\u001b[0m \u001b[1;33m\u001b[0m\u001b[0m\n\u001b[0;32m    151\u001b[0m     \u001b[1;32mdef\u001b[0m \u001b[0mpredict\u001b[0m\u001b[1;33m(\u001b[0m\u001b[0mself\u001b[0m\u001b[1;33m,\u001b[0m \u001b[0minput\u001b[0m\u001b[1;33m)\u001b[0m\u001b[1;33m:\u001b[0m\u001b[1;33m\u001b[0m\u001b[1;33m\u001b[0m\u001b[0m\n\u001b[1;32m--> 152\u001b[1;33m         \u001b[1;32massert\u001b[0m \u001b[0mself\u001b[0m\u001b[1;33m.\u001b[0m\u001b[0mis_fitted\u001b[0m\u001b[1;33m,\u001b[0m \u001b[1;34m'Model must be fit befora predicting'\u001b[0m\u001b[1;33m\u001b[0m\u001b[1;33m\u001b[0m\u001b[0m\n\u001b[0m\u001b[0;32m    153\u001b[0m         \u001b[0moutput\u001b[0m \u001b[1;33m=\u001b[0m \u001b[0minput\u001b[0m\u001b[1;33m\u001b[0m\u001b[1;33m\u001b[0m\u001b[0m\n\u001b[0;32m    154\u001b[0m         \u001b[1;32mfor\u001b[0m \u001b[0mlayer\u001b[0m \u001b[1;32min\u001b[0m \u001b[0mself\u001b[0m\u001b[1;33m.\u001b[0m\u001b[0mlayers\u001b[0m\u001b[1;33m:\u001b[0m\u001b[1;33m\u001b[0m\u001b[1;33m\u001b[0m\u001b[0m\n",
      "\u001b[1;31mAssertionError\u001b[0m: Model must be fit befora predicting"
     ]
    }
   ],
   "source": [
    "np.round(nn.predict(dataset.X))"
   ]
  },
  {
   "cell_type": "code",
   "execution_count": null,
   "id": "a0bec0a5",
   "metadata": {},
   "outputs": [],
   "source": [
    "nn.cost(dataset.X, dataset.y)"
   ]
  },
  {
   "cell_type": "markdown",
   "id": "a21d4930",
   "metadata": {},
   "source": [
    "## Train the model using backpropagation"
   ]
  },
  {
   "cell_type": "code",
   "execution_count": null,
   "id": "187d0e28",
   "metadata": {},
   "outputs": [],
   "source": [
    "nn2 = NN(epochs = 100000, lr = 0.1, verbose = False)\n",
    "nn2.add(Dense(2, 2))\n",
    "nn2.add(Activation(Sigmoid()))\n",
    "nn2.add(Dense(2, 1))\n",
    "nn2.add(Activation(Sigmoid()))\n",
    "# use cross entropy instead of MSE as loss function\n",
    "# nn2.use(cross_entropy,cross_entropy_prime)"
   ]
  },
  {
   "cell_type": "code",
   "execution_count": null,
   "id": "8dc1623c",
   "metadata": {},
   "outputs": [],
   "source": [
    "nn2.fit(dataset)"
   ]
  },
  {
   "cell_type": "code",
   "execution_count": null,
   "id": "77ecee76",
   "metadata": {},
   "outputs": [],
   "source": [
    "np.round(nn2.predict(X))"
   ]
  },
  {
   "cell_type": "code",
   "execution_count": null,
   "id": "5a08a63c",
   "metadata": {},
   "outputs": [],
   "source": [
    "import matplotlib.pyplot as plt"
   ]
  },
  {
   "cell_type": "code",
   "execution_count": null,
   "id": "9c39308d",
   "metadata": {},
   "outputs": [],
   "source": [
    "%matplotlib inline\n",
    "plt.plot(list(nn2.history.keys()), list(nn2.history.values()), '-', color = 'red')\n",
    "plt.title('Loss')\n",
    "plt.show()"
   ]
  },
  {
   "cell_type": "code",
   "execution_count": null,
   "id": "e0839b61",
   "metadata": {},
   "outputs": [],
   "source": [
    "np.round(nn2.predict(dataset.X))"
   ]
  },
  {
   "cell_type": "code",
   "execution_count": null,
   "id": "9c4cc530",
   "metadata": {},
   "outputs": [],
   "source": [
    "nn2.cost(dataset.X,dataset.y)"
   ]
  }
 ],
 "metadata": {
  "interpreter": {
   "hash": "84e5a2fd7e25c8bcf38508d69068628463a9d9ea1454c39f49bb2bfb5f0bb0bf"
  },
  "kernelspec": {
   "display_name": "Python 3",
   "language": "python",
   "name": "python3"
  },
  "language_info": {
   "codemirror_mode": {
    "name": "ipython",
    "version": 3
   },
   "file_extension": ".py",
   "mimetype": "text/x-python",
   "name": "python",
   "nbconvert_exporter": "python",
   "pygments_lexer": "ipython3",
   "version": "3.8.8"
  }
 },
 "nbformat": 4,
 "nbformat_minor": 5
}
